{
 "cells": [
  {
   "cell_type": "markdown",
   "id": "efe3b219",
   "metadata": {},
   "source": [
    "# Chapter 10. Files and Exceptions"
   ]
  },
  {
   "cell_type": "markdown",
   "id": "d4d63bbc",
   "metadata": {},
   "source": [
    "This notebook includes exercises from Chapter 10 of ***Python Crash Course***. Additional Python programs are stored in the same directory. Please be mindful when moving or deleting files from the directory as such changes may imperil the programs contained in this notebook."
   ]
  },
  {
   "cell_type": "markdown",
   "id": "5f6ed117",
   "metadata": {},
   "source": [
    "10-1. Learning Python: Open a blank file in your text editor and write a few lines summarizing what you’ve learned about Python so far. Start each line with the phrase In Python you can. . . . Save the file as learning_python.txt in the same directory as your exercises from this chapter. Write a program that reads the file and prints what you wrote three times. Print the contents once by reading in the entire file, once by looping over the file object, and once by stor\u0002ing the lines in a list and then working with them outside the with block."
   ]
  },
  {
   "cell_type": "code",
   "execution_count": 6,
   "id": "e468dfec",
   "metadata": {},
   "outputs": [
    {
     "name": "stdout",
     "output_type": "stream",
     "text": [
      "In Python I can declare variables.\n",
      "In Python I can define functions.\n",
      "In Python I can import classes from modules.\n"
     ]
    }
   ],
   "source": [
    "with open(\"learning_python.txt\") as file_object:\n",
    "    contents = file_object.read()\n",
    "print(contents)"
   ]
  },
  {
   "cell_type": "code",
   "execution_count": 13,
   "id": "24649058",
   "metadata": {},
   "outputs": [
    {
     "name": "stdout",
     "output_type": "stream",
     "text": [
      "In Python I can declare variables.\n",
      "In Python I can define functions.\n",
      "In Python I can import classes from modules.\n"
     ]
    }
   ],
   "source": [
    "with open(\"learning_python.txt\") as file_object:\n",
    "    contents = file_object\n",
    "    for line in contents:\n",
    "        print(line.rstrip())"
   ]
  },
  {
   "cell_type": "code",
   "execution_count": 14,
   "id": "1f167116",
   "metadata": {},
   "outputs": [
    {
     "name": "stdout",
     "output_type": "stream",
     "text": [
      "In Python I can declare variables.\n",
      "In Python I can define functions.\n",
      "In Python I can import classes from modules.\n"
     ]
    }
   ],
   "source": [
    "filename = \"learning_python.txt\"\n",
    "with open(filename) as file_object:\n",
    "    contents = file_object.readlines()\n",
    "for line in contents:\n",
    "    print(line.rstrip())"
   ]
  },
  {
   "cell_type": "markdown",
   "id": "aa107e48",
   "metadata": {},
   "source": [
    "10-2. Learning C: You can use the replace() method to replace any word in a string with a different word. Here’s a quick example showing how to replace 'dog' with 'cat' in a sentence:\n",
    "\n",
    "> message = \"I really like dogs.\"\n",
    ">\n",
    "> message.replace('dog', 'cat')\n",
    "\n",
    "'I really like cats.' \n",
    "\n",
    "Read in each line from the file you just created, learning_python.txt, and replace the word Python with the name of another language, such as C. Print each modified line to the screen."
   ]
  },
  {
   "cell_type": "code",
   "execution_count": 18,
   "id": "43757668",
   "metadata": {},
   "outputs": [
    {
     "name": "stdout",
     "output_type": "stream",
     "text": [
      "In Java I can declare variables.\n",
      "In Java I can define functions.\n",
      "In Java I can import classes from modules.\n"
     ]
    }
   ],
   "source": [
    "# snip~\n",
    "for line in contents:\n",
    "    replacement = line.replace('Python', 'Java')\n",
    "    print(replacement.rstrip())"
   ]
  },
  {
   "cell_type": "markdown",
   "id": "ec369ef1",
   "metadata": {},
   "source": [
    "10-3. Guest: Write a program that prompts the user for their name. When they respond, write their name to a file called guest.txt."
   ]
  },
  {
   "cell_type": "code",
   "execution_count": 19,
   "id": "1c15cd4b",
   "metadata": {},
   "outputs": [
    {
     "name": "stdout",
     "output_type": "stream",
     "text": [
      "Enter your name: Zhaozhi\n"
     ]
    }
   ],
   "source": [
    "prompt = input(\"Enter your name: \")\n",
    "with open('guest.txt', 'w') as file_object:\n",
    "    file_object.write(prompt)"
   ]
  },
  {
   "cell_type": "markdown",
   "id": "75965d9a",
   "metadata": {},
   "source": [
    "10-4. Guest Book: Write a while loop that prompts users for their name. When they enter their name, print a greeting to the screen and add a line recording their visit in a file called guest_book.txt. Make sure each entry appears on a new line in the file."
   ]
  },
  {
   "cell_type": "code",
   "execution_count": 22,
   "id": "4c9580fb",
   "metadata": {},
   "outputs": [
    {
     "name": "stdout",
     "output_type": "stream",
     "text": [
      "Enter your name: Zhaozhi\n",
      "Hello Zhaozhi!\n",
      "\n",
      "Enter your name: Zihao\n",
      "Hello Zihao!\n",
      "\n",
      "Enter your name: Jason\n",
      "Hello Jason!\n",
      "\n",
      "Enter your name: Callan\n",
      "Hello Callan!\n",
      "\n",
      "Enter your name: Quit\n"
     ]
    }
   ],
   "source": [
    "while True:\n",
    "    prompt = input(\"Enter your name: \")\n",
    "    with open('guest_book.txt', 'a') as file_object:\n",
    "        if prompt != \"Quit\":\n",
    "            message = f'Hello {prompt}!\\n'\n",
    "            print(message)\n",
    "            file_object.write(message)\n",
    "        else:\n",
    "            break"
   ]
  },
  {
   "cell_type": "markdown",
   "id": "98b905c0",
   "metadata": {},
   "source": [
    "10-5. Programming Poll: Write a while loop that asks people why they like programming. Each time someone enters a reason, add their reason to a file that stores all the responses."
   ]
  },
  {
   "cell_type": "code",
   "execution_count": 30,
   "id": "c9e30248",
   "metadata": {},
   "outputs": [
    {
     "name": "stdout",
     "output_type": "stream",
     "text": [
      "Why do you like programming? Build websites\n",
      "Build websites\n",
      "\n",
      "Why do you like programming? Analyse data\n",
      "Analyse data\n",
      "\n",
      "Why do you like programming? Create apps\n",
      "Create apps\n",
      "\n",
      "Why do you like programming? Quit\n"
     ]
    }
   ],
   "source": [
    "while True:\n",
    "    prompt = input(\"Why do you like programming? \")\n",
    "    with open('programming.txt', 'a') as file_object:\n",
    "        if prompt != \"Quit\":\n",
    "            message = prompt + '\\n'\n",
    "            print(message)\n",
    "            file_object.write(message)\n",
    "        else:\n",
    "            break"
   ]
  },
  {
   "cell_type": "markdown",
   "id": "2fd36efd",
   "metadata": {},
   "source": [
    "10-6. Addition: One common problem when prompting for numerical input occurs when people provide text instead of numbers. When you try to convert the input to an int, you’ll get a ValueError. Write a program that prompts for two numbers. Add them together and print the result. Catch the ValueError if either input value is not a number, and print a friendly error message. Test your program by entering two numbers and then by entering some text instead of a number."
   ]
  },
  {
   "cell_type": "code",
   "execution_count": 38,
   "id": "443b6f5f",
   "metadata": {},
   "outputs": [
    {
     "name": "stdout",
     "output_type": "stream",
     "text": [
      "Please enter two numbers for addition: \n",
      "Enter your first number: 32\n",
      "Enter your second number: 48\n",
      "80\n",
      "Enter your first number: a\n",
      "Enter your second number: 2\n",
      "You must enter a number!\n",
      "Enter your first number: q\n"
     ]
    }
   ],
   "source": [
    "print(\"Please enter two numbers for addition: \")\n",
    "while True:\n",
    "    first_number = input(\"Enter your first number: \")\n",
    "    if first_number == \"q\":\n",
    "        break\n",
    "    second_number = input(\"Enter your second number: \")\n",
    "    if second_number == \"q\":\n",
    "        break\n",
    "    try:\n",
    "        answer = int(first_number) + int(second_number)\n",
    "    except ValueError:\n",
    "        print(\"You must enter a number!\")\n",
    "    else:\n",
    "        print(answer)"
   ]
  },
  {
   "cell_type": "code",
   "execution_count": 39,
   "id": "ce59f21c",
   "metadata": {},
   "outputs": [
    {
     "name": "stdout",
     "output_type": "stream",
     "text": [
      "Please enter two numbers for addition: \n",
      "Enter your first number: 6\n",
      "Enter your second number: 2\n",
      "3.0\n",
      "Enter your first number: 8\n",
      "Enter your second number: 2\n",
      "4.0\n",
      "Enter your first number: text\n",
      "Enter your second number: 2\n",
      "You must enter a number!\n",
      "Enter your first number: 5\n",
      "Enter your second number: 0\n",
      "You can't divide by 0!\n",
      "Enter your first number: 12\n",
      "Enter your second number: 6\n",
      "2.0\n",
      "Enter your first number: q\n"
     ]
    }
   ],
   "source": [
    "print(\"Please enter two numbers for addition: \")\n",
    "while True:\n",
    "    first_number = input(\"Enter your first number: \")\n",
    "    if first_number == \"q\":\n",
    "        break\n",
    "    second_number = input(\"Enter your second number: \")\n",
    "    if second_number == \"q\":\n",
    "        break\n",
    "    try:\n",
    "        answer = int(first_number) / int(second_number)\n",
    "    except ValueError:\n",
    "        print(\"You must enter a number!\")\n",
    "    except ZeroDivisionError:\n",
    "        print(\"You can't divide by 0!\")\n",
    "    else:\n",
    "        print(answer)"
   ]
  },
  {
   "cell_type": "markdown",
   "id": "d61ac020",
   "metadata": {},
   "source": [
    "10-7. Addition Calculator: Wrap your code from Exercise 10-6 in a while loop so the user can continue entering numbers even if they make a mistake and enter text instead of a number."
   ]
  },
  {
   "cell_type": "code",
   "execution_count": null,
   "id": "306140cd",
   "metadata": {},
   "outputs": [],
   "source": [
    "print(\"Please enter two numbers for addition: \")\n",
    "while True:\n",
    "    first_number = input(\"Enter your first number: \")\n",
    "    if first_number == \"q\":\n",
    "        break\n",
    "    second_number = input(\"Enter your second number: \")\n",
    "    if second_number == \"q\":\n",
    "        break\n",
    "    try:\n",
    "        answer = int(first_number) + int(second_number)\n",
    "    except ValueError:\n",
    "        print(\"You must enter a number!\")\n",
    "    else:\n",
    "        print(answer)"
   ]
  },
  {
   "cell_type": "markdown",
   "id": "e3fdb37a",
   "metadata": {},
   "source": [
    "10-8. Cats and Dogs: Make two files, cats.txt and dogs.txt. Store at least three names of cats in the first file and three names of dogs in the second file. Write a program that tries to read these files and print the contents of the file to the screen. Wrap your code in a try-except block to catch the FileNotFound error, and print a friendly message if a file is missing. Move one of the files to a dif\u0002ferent location on your system, and make sure the code in the except block executes properly."
   ]
  },
  {
   "cell_type": "code",
   "execution_count": 46,
   "id": "97416a04",
   "metadata": {},
   "outputs": [
    {
     "name": "stdout",
     "output_type": "stream",
     "text": [
      "Couldn't find cats.txt.\n",
      "Dog 1\n",
      "Dog 2\n",
      "Dog 3\n"
     ]
    }
   ],
   "source": [
    "#with cats.txt missing\n",
    "\n",
    "cats = \"cats.txt\"\n",
    "dogs = \"dogs.txt\"\n",
    "try:\n",
    "    with open(cats, encoding=\"UTF-8\") as f:\n",
    "        print(f.read())\n",
    "except FileNotFoundError:\n",
    "        print(f\"Couldn't find {cats}.\")\n",
    "try:\n",
    "    with open(dogs, encoding=\"UTF-8\") as f:\n",
    "        print(f.read())\n",
    "except FileNotFoundError:\n",
    "        print(f\"Couldn't find {dogs}.\")"
   ]
  },
  {
   "cell_type": "markdown",
   "id": "87a83911",
   "metadata": {},
   "source": [
    "10-9. Silent Cats and Dogs: Modify your except block in Exercise 10-8 to fail silently if either file is missing."
   ]
  },
  {
   "cell_type": "code",
   "execution_count": 48,
   "id": "839b79ad",
   "metadata": {},
   "outputs": [
    {
     "name": "stdout",
     "output_type": "stream",
     "text": [
      "Cat 1\n",
      "Cat 2\n",
      "Cat 3\n"
     ]
    }
   ],
   "source": [
    "# with dogs.txt missing\n",
    "\n",
    "cats = \"cats.txt\"\n",
    "dogs = \"dogs.txt\"\n",
    "try:\n",
    "    with open(cats, encoding=\"UTF-8\") as f:\n",
    "        print(f.read())\n",
    "except FileNotFoundError:\n",
    "        pass\n",
    "try:\n",
    "    with open(dogs, encoding=\"UTF-8\") as f:\n",
    "        print(f.read())\n",
    "except FileNotFoundError:\n",
    "        pass"
   ]
  },
  {
   "cell_type": "code",
   "execution_count": 65,
   "id": "8eeaadf0",
   "metadata": {},
   "outputs": [
    {
     "name": "stdout",
     "output_type": "stream",
     "text": [
      "Content in cats.txt: \n",
      "Cat 1\n",
      "Cat 2\n",
      "Cat 3\n",
      "\n",
      "Content in dogs.txt: \n",
      "Dog 1\n",
      "Dog 2\n",
      "Dog 3\n",
      "\n"
     ]
    }
   ],
   "source": [
    "files = ['cats.txt', 'dogs.txt']\n",
    "for file in files:\n",
    "    try:\n",
    "        with open(file, encoding=\"UTF-8\") as f:\n",
    "            content = f.read()\n",
    "            print(f\"Content in {file}: \")\n",
    "            print(content + \"\\n\")\n",
    "    except FileNotFoundError:\n",
    "        pass"
   ]
  },
  {
   "cell_type": "markdown",
   "id": "3f5f4ab9",
   "metadata": {},
   "source": [
    "10-10. Common Words: Visit Project Gutenberg (https://gutenberg.org/) and find a few texts you’d like to analyze. Download the text files for these works, or copy the raw text from your browser into a text file on your computer.\n",
    "\n",
    "\n",
    "You can use the count() method to find out how many times a word or phrase appears in a string. For example, the following code counts the number of times 'row' appears in a string:\n",
    "\n",
    "> line = \"Row, row, row your boat\" \n",
    ">\n",
    "> line.count('row') \n",
    ">\n",
    ">> 2 \n",
    ">\n",
    "> line.lower().count('row')\n",
    ">\n",
    ">> 3 \n",
    "\n",
    "Notice that converting the string to lowercase using lower() catches all appearances of the word you’re looking for, regardless of how it’s \n",
    "formatted. \n",
    "\n",
    "Write a program that reads the files you found at Project Gutenberg and determines how many times the word 'the' appears in each text. This will be an approximation because it will also count words such as 'then' and 'there'. Try counting 'the ', with a space in the string, and see how much lower your count is."
   ]
  },
  {
   "cell_type": "code",
   "execution_count": 61,
   "id": "dc5cead6",
   "metadata": {},
   "outputs": [
    {
     "data": {
      "text/plain": [
       "399"
      ]
     },
     "execution_count": 61,
     "metadata": {},
     "output_type": "execute_result"
    }
   ],
   "source": [
    "file = \"alice-in-wonderland.txt\"\n",
    "with open(file, encoding=\"UTF-8\") as f:\n",
    "    content = f.read()\n",
    "content.lower().count('the') - content.lower().count('the ')"
   ]
  },
  {
   "cell_type": "code",
   "execution_count": 54,
   "id": "7f508cf9",
   "metadata": {},
   "outputs": [
    {
     "data": {
      "text/plain": [
       "4"
      ]
     },
     "execution_count": 54,
     "metadata": {},
     "output_type": "execute_result"
    }
   ],
   "source": [
    "title = \"Office of Li Zhaozhi\"\n",
    "len(title.split())"
   ]
  },
  {
   "cell_type": "markdown",
   "id": "93eecccc",
   "metadata": {},
   "source": [
    "10-11. Favorite Number: Write a program that prompts for the user’s favorite number. Use json.dump() to store this number in a file. Write a separate program that reads in this value and prints the message, “I know your favorite number! It’s _____.”"
   ]
  },
  {
   "cell_type": "code",
   "execution_count": 68,
   "id": "c90f3d13",
   "metadata": {},
   "outputs": [
    {
     "name": "stdout",
     "output_type": "stream",
     "text": [
      "What's your favourite number? 100\n",
      "favourite_number.json\n"
     ]
    }
   ],
   "source": [
    "import json \n",
    "\n",
    "number = input(\"What's your favourite number? \")\n",
    "filename = \"favourite_number.json\"\n",
    "with open(filename, \"w\") as f:\n",
    "    json.dump(number, f)"
   ]
  },
  {
   "cell_type": "code",
   "execution_count": 70,
   "id": "0c66a021",
   "metadata": {},
   "outputs": [
    {
     "name": "stdout",
     "output_type": "stream",
     "text": [
      "100\n"
     ]
    }
   ],
   "source": [
    "import json\n",
    "filename = 'favourite_number.json'\n",
    "with open(filename) as f:\n",
    "    get_number = json.load(f)\n",
    "    print(get_number)"
   ]
  },
  {
   "cell_type": "markdown",
   "id": "53dc346d",
   "metadata": {},
   "source": [
    "10-12. Favorite Number Remembered: Combine the two programs from Exercise 10-11 into one file. If the number is already stored, report the favorite number to the user. If not, prompt for the user’s favorite number and store it in a file. Run the program twice to see that it works."
   ]
  },
  {
   "cell_type": "code",
   "execution_count": 73,
   "id": "fdbc0231",
   "metadata": {},
   "outputs": [
    {
     "name": "stdout",
     "output_type": "stream",
     "text": [
      "100\n"
     ]
    }
   ],
   "source": [
    "import json \n",
    "try: \n",
    "    filename = 'favourite_number.json'\n",
    "    with open(filename) as f:\n",
    "        get_number = json.load(f)\n",
    "        print(get_number)\n",
    "except FileNotFoundError:\n",
    "    number = input(\"What's your favourite number? \")\n",
    "    filename = \"favourite_number.json\"\n",
    "    with open(filename, \"w\") as f:\n",
    "        json.dump(number, f)"
   ]
  },
  {
   "cell_type": "markdown",
   "id": "250d646d",
   "metadata": {},
   "source": [
    "10-13. Verify User: The final listing for remember_me.py assumes either that the user has already entered their username or that the program is running for the first time. We should modify it in case the current user is not the person who last used the program.\n",
    "\n",
    "Before printing a welcome back message in greet_user(), ask the user if this is the correct username. If it’s not, call get_new_username() to get the correct username."
   ]
  },
  {
   "cell_type": "code",
   "execution_count": 78,
   "id": "da5cda3b",
   "metadata": {},
   "outputs": [
    {
     "name": "stdout",
     "output_type": "stream",
     "text": [
      "Are you the same user? (Y/N)Y\n",
      "Welcome back, Jason!\n"
     ]
    }
   ],
   "source": [
    "import json\n",
    "def get_stored_username():\n",
    "    \"\"\"Get stored username if available.\"\"\"\n",
    "    filename = 'username.json'\n",
    "    try:\n",
    "        with open(filename) as f:\n",
    "            username = json.load(f)\n",
    "    except FileNotFoundError:\n",
    "        return None\n",
    "    else:\n",
    "        return username\n",
    "\n",
    "def get_new_username():\n",
    "    \"\"\"Prompt for a new username.\"\"\"\n",
    "    username = input(\"What is your name? \")\n",
    "    filename = 'username.json'\n",
    "    with open(filename, 'w') as f:\n",
    "        json.dump(username, f)\n",
    "        return username\n",
    "    \n",
    "def greet_user():\n",
    "    \"\"\"Greet the user by name.\"\"\"\n",
    "    username = get_stored_username()\n",
    "    if username:\n",
    "        check = input(\"Are you the same user? (Y/N)\")\n",
    "        if check == \"Y\":\n",
    "            print(f\"Welcome back, {username}!\")\n",
    "        else:\n",
    "            get_new_username()\n",
    "    else:\n",
    "        username = get_new_username()\n",
    "        print(f\"We'll remember you when you come back, {username}!\")\n",
    "\n",
    "greet_user()"
   ]
  }
 ],
 "metadata": {
  "kernelspec": {
   "display_name": "Python 3 (ipykernel)",
   "language": "python",
   "name": "python3"
  },
  "language_info": {
   "codemirror_mode": {
    "name": "ipython",
    "version": 3
   },
   "file_extension": ".py",
   "mimetype": "text/x-python",
   "name": "python",
   "nbconvert_exporter": "python",
   "pygments_lexer": "ipython3",
   "version": "3.9.12"
  }
 },
 "nbformat": 4,
 "nbformat_minor": 5
}
