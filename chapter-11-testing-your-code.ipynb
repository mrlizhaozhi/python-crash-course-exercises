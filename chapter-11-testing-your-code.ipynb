{
 "cells": [
  {
   "cell_type": "markdown",
   "id": "272935a5",
   "metadata": {},
   "source": [
    "# Chapter 11. Testing Your Code"
   ]
  },
  {
   "cell_type": "markdown",
   "id": "6938869a",
   "metadata": {},
   "source": [
    "This notebook includes exercises from Chapter 11 of Python Crash Course. This chapter concludes Part I on Python basics.\n",
    "\n",
    "TEST IN COMMAND PROMPT - ERRORS FROM MAIN"
   ]
  },
  {
   "cell_type": "markdown",
   "id": "5eb760df",
   "metadata": {},
   "source": [
    "11-1. City, Country: Write a function that accepts two parameters: a city name and a country name. The function should return a single string of the form City, Country, such as Santiago, Chile. Store the function in a module called city_functions.py.\n",
    "\n",
    "Create a file called test_cities.py that tests the function you just wrote (remember that you need to import unittest and the function you want to test). Write a method called test_city_country() to verify that calling your function with values such as 'santiago' and 'chile' results in the correct string. Run test_cities.py, and make sure test_city_country() passes."
   ]
  },
  {
   "cell_type": "code",
   "execution_count": 41,
   "id": "f3d6b24f",
   "metadata": {},
   "outputs": [],
   "source": [
    "def city_functions(city, country):\n",
    "    return f\"{city.title()}, {country.title()}\""
   ]
  },
  {
   "cell_type": "code",
   "execution_count": 43,
   "id": "234241a8",
   "metadata": {
    "scrolled": true
   },
   "outputs": [
    {
     "name": "stderr",
     "output_type": "stream",
     "text": [
      "E\n",
      "======================================================================\n",
      "ERROR: C:\\Users\\ZhaozhiLi\\AppData\\Roaming\\jupyter\\runtime\\kernel-95018ed1-7ed9-4e2b-a71f-517293171214 (unittest.loader._FailedTest)\n",
      "----------------------------------------------------------------------\n",
      "AttributeError: module '__main__' has no attribute 'C:\\Users\\ZhaozhiLi\\AppData\\Roaming\\jupyter\\runtime\\kernel-95018ed1-7ed9-4e2b-a71f-517293171214'\n",
      "\n",
      "----------------------------------------------------------------------\n",
      "Ran 1 test in 0.001s\n",
      "\n",
      "FAILED (errors=1)\n"
     ]
    },
    {
     "ename": "SystemExit",
     "evalue": "True",
     "output_type": "error",
     "traceback": [
      "An exception has occurred, use %tb to see the full traceback.\n",
      "\u001b[1;31mSystemExit\u001b[0m\u001b[1;31m:\u001b[0m True\n"
     ]
    },
    {
     "name": "stderr",
     "output_type": "stream",
     "text": [
      "C:\\Anaconda\\lib\\site-packages\\IPython\\core\\interactiveshell.py:3452: UserWarning: To exit: use 'exit', 'quit', or Ctrl-D.\n",
      "  warn(\"To exit: use 'exit', 'quit', or Ctrl-D.\", stacklevel=1)\n"
     ]
    }
   ],
   "source": [
    "import unittest\n",
    "# from city_functions import city_functions\n",
    "\n",
    "class CityCountryTestCase(unittest.TestCase):\n",
    "    \n",
    "    def test_city_country(self):\n",
    "        city_country = city_functions('beijing', 'china')\n",
    "        self.assertEqual(city_country, 'Beijing, China')\n",
    "        \n",
    "if __name__ == '__main__':\n",
    "     unittest.main()"
   ]
  },
  {
   "cell_type": "markdown",
   "id": "ccc399b0",
   "metadata": {},
   "source": [
    "11-2. Population: Modify your function so it requires a third parameter, population. It should now return a single string of the form City, Country – population xxx, such as Santiago, Chile – population 5000000. Run test_cities.py again. Make sure test_city_country() fails this time.\n",
    "\n",
    "Modify the function so the population parameter is optional. Run test_cities.py again, and make sure test_city_country() passes again.\n",
    "\n",
    "Write a second test called test_city_country_population() that verifies you can call your function with the values 'santiago', 'chile', and \n",
    "'population=5000000'. Run test_cities.py again, and make sure this new test passes."
   ]
  },
  {
   "cell_type": "code",
   "execution_count": null,
   "id": "60e29b8d",
   "metadata": {},
   "outputs": [],
   "source": []
  },
  {
   "cell_type": "markdown",
   "id": "ac310224",
   "metadata": {},
   "source": [
    "11-3. Employee: Write a class called Employee. The __init__() method should take in a first name, a last name, and an annual salary, and store each of these as attributes. Write a method called give_raise() that adds $5,000 to the annual salary by default but also accepts a different raise amount.\n",
    "\n",
    "Write a test case for Employee. Write two test methods, test_give_default_raise() and test_give_custom_raise(). Use the setUp() method so you don’t have to create a new employee instance in each test method. Run your test case, and make sure both tests pass."
   ]
  },
  {
   "cell_type": "code",
   "execution_count": null,
   "id": "629877d0",
   "metadata": {},
   "outputs": [],
   "source": []
  }
 ],
 "metadata": {
  "kernelspec": {
   "display_name": "Python 3 (ipykernel)",
   "language": "python",
   "name": "python3"
  },
  "language_info": {
   "codemirror_mode": {
    "name": "ipython",
    "version": 3
   },
   "file_extension": ".py",
   "mimetype": "text/x-python",
   "name": "python",
   "nbconvert_exporter": "python",
   "pygments_lexer": "ipython3",
   "version": "3.9.12"
  }
 },
 "nbformat": 4,
 "nbformat_minor": 5
}
