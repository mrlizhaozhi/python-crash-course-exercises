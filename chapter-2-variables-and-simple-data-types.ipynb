{
 "cells": [
  {
   "cell_type": "markdown",
   "id": "8b4db08c",
   "metadata": {},
   "source": [
    "# Chapter 2. Variables and Simple Data Types"
   ]
  },
  {
   "cell_type": "markdown",
   "id": "90cc5b96",
   "metadata": {},
   "source": [
    "2-1: Simple Message: Assign a message to a variable, and then print that message."
   ]
  },
  {
   "cell_type": "code",
   "execution_count": 1,
   "id": "d85e61fd",
   "metadata": {},
   "outputs": [
    {
     "name": "stdout",
     "output_type": "stream",
     "text": [
      "assign a message and prin it out.\n"
     ]
    }
   ],
   "source": [
    "simple_message = \"assign a message and prin it out.\";\n",
    "print(simple_message);"
   ]
  },
  {
   "cell_type": "markdown",
   "id": "36587f21",
   "metadata": {},
   "source": [
    "2-2. Simple Messages: Assign a message to a variable, and print that message. Then change the value of the variable to a new message, and print the new message."
   ]
  },
  {
   "cell_type": "code",
   "execution_count": 2,
   "id": "9767f7a4",
   "metadata": {},
   "outputs": [
    {
     "name": "stdout",
     "output_type": "stream",
     "text": [
      "original message\n",
      "updated message\n"
     ]
    }
   ],
   "source": [
    "simple_messages = \"original message\";\n",
    "print(simple_messages);\n",
    "\n",
    "simple_messages = \"updated message\";\n",
    "print(simple_messages);"
   ]
  },
  {
   "cell_type": "markdown",
   "id": "6b99e10b",
   "metadata": {},
   "source": [
    "2-3. Personal Message: Use a variable to represent a person’s name, and print a message to that person. Your message should be simple, such as, “Hello Eric, would you like to learn some Python today?”"
   ]
  },
  {
   "cell_type": "code",
   "execution_count": 3,
   "id": "2bde2dcf",
   "metadata": {},
   "outputs": [
    {
     "name": "stdout",
     "output_type": "stream",
     "text": [
      "Hi, Jason Rivera! How is your Python course?\n"
     ]
    }
   ],
   "source": [
    "name = \"Jason Rivera\";\n",
    "message = \"Hi, \"+name+\"! How is your Python course?\";\n",
    "print(message);"
   ]
  },
  {
   "cell_type": "markdown",
   "id": "c6940b89",
   "metadata": {},
   "source": [
    "2-4. Name Cases: Use a variable to represent a person’s name, and then print that person’s name in lowercase, uppercase, and title case."
   ]
  },
  {
   "cell_type": "code",
   "execution_count": 4,
   "id": "d9946779",
   "metadata": {},
   "outputs": [
    {
     "name": "stdout",
     "output_type": "stream",
     "text": [
      "ZHAOZHI LI\n",
      "zhaozhi li\n",
      "Zhaozhi Li\n"
     ]
    }
   ],
   "source": [
    "name = \"Zhaozhi Li\";\n",
    "print(name.upper());\n",
    "print(name.lower());\n",
    "print(name.title());"
   ]
  },
  {
   "cell_type": "markdown",
   "id": "d355a755",
   "metadata": {},
   "source": [
    "2-5. Famous Quote: Find a quote from a famous person you admire. Print the quote and the name of its author. Your output should look something like the following, including the quotation marks: \n",
    "\n",
    "Albert Einstein once said, “A person who never made a mistake never tried anything new.”"
   ]
  },
  {
   "cell_type": "code",
   "execution_count": 5,
   "id": "9d006bf3",
   "metadata": {},
   "outputs": [
    {
     "name": "stdout",
     "output_type": "stream",
     "text": [
      "Andrew Ng, one of the most reputable AI researchers in the world, once said: \"AI is the new electricity.\"\n"
     ]
    }
   ],
   "source": [
    "famous_quote = 'Andrew Ng, one of the most reputable AI researchers in the world, once said: \"AI is the new electricity.\"';\n",
    "print(famous_quote);"
   ]
  },
  {
   "cell_type": "markdown",
   "id": "30717423",
   "metadata": {},
   "source": [
    "2-6. Famous Quote 2: Repeat Exercise 2-5, but this time, represent the famous person’s name using a variable called famous_person. Then compose your message and represent it with a new variable called message. Print your message."
   ]
  },
  {
   "cell_type": "code",
   "execution_count": 6,
   "id": "638f5938",
   "metadata": {},
   "outputs": [
    {
     "name": "stdout",
     "output_type": "stream",
     "text": [
      "Andrew Ng, one of the most profound AI researchers, once said: \"AI is the new electricity.\"\n"
     ]
    }
   ],
   "source": [
    "famous_person = \"Andrew Ng\";\n",
    "quote = \"AI is the new electricity.\";\n",
    "message = f'{famous_person}, one of the most profound AI researchers, once said: \"{quote}\"';\n",
    "print(message);"
   ]
  },
  {
   "cell_type": "markdown",
   "id": "b8785d8e",
   "metadata": {},
   "source": [
    "2-7. Stripping Names: Use a variable to represent a person’s name, and include some whitespace characters at the beginning and end of the name. Make sure you use each character combination, \"\\t\" and \"\\n\", at least once. Print the name once, so the whitespace around the name is displayed. Then print the name using each of the three stripping functions, lstrip(), rstrip(), and strip()."
   ]
  },
  {
   "cell_type": "code",
   "execution_count": 7,
   "id": "c6216c5d",
   "metadata": {},
   "outputs": [
    {
     "name": "stdout",
     "output_type": "stream",
     "text": [
      " Zhaozhi Li \n",
      "Zhaozhi Li\n",
      " Zhaozhi Li\n",
      "Zhaozhi Li \n",
      "Team members include: \n",
      "\tZhaozhi Li,\n",
      "\tJason Rivera,\n",
      "\t...\n"
     ]
    }
   ],
   "source": [
    "name = \" Zhaozhi Li \";\n",
    "print(name); #original\n",
    "print(name.strip()); #remove whitespaces from both left and right\n",
    "print(name.rstrip()); #remove whitespaces on the right\n",
    "print(name.lstrip()); #remove whitespaces on the left\n",
    "\n",
    "team_members = \"Team members include: \\n\\tZhaozhi Li,\\n\\tJason Rivera,\\n\\t...\";\n",
    "print(team_members);"
   ]
  },
  {
   "cell_type": "markdown",
   "id": "29f60085",
   "metadata": {},
   "source": [
    "2-8. Number Eight: Write addition, subtraction, multiplication, and division operations that each result in the number 8. Be sure to enclose your operations in print() calls to see the results. You should create four lines that look like this:\n",
    "\n",
    "print(5+3)\n",
    "\n",
    "Your output should simply be four lines with the number 8 appearing once on each line."
   ]
  },
  {
   "cell_type": "code",
   "execution_count": 8,
   "id": "625c8083",
   "metadata": {},
   "outputs": [
    {
     "name": "stdout",
     "output_type": "stream",
     "text": [
      "8\n",
      "8\n",
      "8\n",
      "8\n"
     ]
    }
   ],
   "source": [
    "#addition, \n",
    "print(4+4);\n",
    "\n",
    "#subtraction,\n",
    "print(10-2);\n",
    "\n",
    "#multiplication,\n",
    "print(2*4);\n",
    "\n",
    "#division\n",
    "print(int(16/2));"
   ]
  },
  {
   "cell_type": "markdown",
   "id": "b9134ead",
   "metadata": {},
   "source": [
    "2-9. Favorite Number: Use a variable to represent your favorite number. Then, using that variable, create a message that reveals your favorite number. Print that message."
   ]
  },
  {
   "cell_type": "code",
   "execution_count": 9,
   "id": "0bef707f",
   "metadata": {},
   "outputs": [
    {
     "name": "stdout",
     "output_type": "stream",
     "text": [
      "My favorite number is 100.\n"
     ]
    }
   ],
   "source": [
    "favorite_number = 1_00;\n",
    "message = \"My favorite number is \"+str(favorite_number)+\".\";\n",
    "print(message);"
   ]
  },
  {
   "cell_type": "markdown",
   "id": "2593550d",
   "metadata": {},
   "source": [
    "2-10. Adding Comments: Choose two of the programs you’ve written, and add at least one comment to each. If you don’t have anything specific to write because your programs are too simple at this point, just add your name and the current date at the top of each program file. Then write one sentence describing what the program does."
   ]
  },
  {
   "cell_type": "code",
   "execution_count": 10,
   "id": "57dbb58a",
   "metadata": {},
   "outputs": [
    {
     "name": "stdout",
     "output_type": "stream",
     "text": [
      "\"#\" sign creates a single-line comment.\n",
      " ''' sign creates mutiple lines of \n",
      "comments.\n"
     ]
    }
   ],
   "source": [
    "#this is a single-line comment\n",
    "print('\"#\" sign creates a single-line comment.');\n",
    "\n",
    "'''\n",
    "This is a multiple-line\n",
    "comment.\n",
    "'''\n",
    "print(\" ''' \" +\"sign creates mutiple lines of \\ncomments.\");"
   ]
  },
  {
   "cell_type": "markdown",
   "id": "001c9ddb",
   "metadata": {},
   "source": [
    "2-11. Zen of Python: Enter import this into a Python terminal session and skim through the additional principles."
   ]
  },
  {
   "cell_type": "code",
   "execution_count": 11,
   "id": "9921f6c1",
   "metadata": {},
   "outputs": [
    {
     "name": "stdout",
     "output_type": "stream",
     "text": [
      "The Zen of Python, by Tim Peters\n",
      "\n",
      "Beautiful is better than ugly.\n",
      "Explicit is better than implicit.\n",
      "Simple is better than complex.\n",
      "Complex is better than complicated.\n",
      "Flat is better than nested.\n",
      "Sparse is better than dense.\n",
      "Readability counts.\n",
      "Special cases aren't special enough to break the rules.\n",
      "Although practicality beats purity.\n",
      "Errors should never pass silently.\n",
      "Unless explicitly silenced.\n",
      "In the face of ambiguity, refuse the temptation to guess.\n",
      "There should be one-- and preferably only one --obvious way to do it.\n",
      "Although that way may not be obvious at first unless you're Dutch.\n",
      "Now is better than never.\n",
      "Although never is often better than *right* now.\n",
      "If the implementation is hard to explain, it's a bad idea.\n",
      "If the implementation is easy to explain, it may be a good idea.\n",
      "Namespaces are one honking great idea -- let's do more of those!\n"
     ]
    }
   ],
   "source": [
    "import this"
   ]
  }
 ],
 "metadata": {
  "kernelspec": {
   "display_name": "Python 3 (ipykernel)",
   "language": "python",
   "name": "python3"
  },
  "language_info": {
   "codemirror_mode": {
    "name": "ipython",
    "version": 3
   },
   "file_extension": ".py",
   "mimetype": "text/x-python",
   "name": "python",
   "nbconvert_exporter": "python",
   "pygments_lexer": "ipython3",
   "version": "3.9.12"
  }
 },
 "nbformat": 4,
 "nbformat_minor": 5
}
