{
 "cells": [
  {
   "cell_type": "markdown",
   "id": "747bbc43",
   "metadata": {},
   "source": [
    "# Chapter 3. Introducing Lists"
   ]
  },
  {
   "cell_type": "markdown",
   "id": "54c172d4",
   "metadata": {},
   "source": [
    "3-1. Names: Store the names of a few of your friends in a list called names. Print each person’s name by accessing each element in the list, one at a time."
   ]
  },
  {
   "cell_type": "code",
   "execution_count": 1,
   "id": "1eae2d2a",
   "metadata": {},
   "outputs": [
    {
     "name": "stdout",
     "output_type": "stream",
     "text": [
      "['Jason', 'Nenad', 'Chris', 'Callan']\n",
      "jason\n",
      "NENAD\n",
      "Chris\n",
      "Callan\n"
     ]
    }
   ],
   "source": [
    "names = [\"Jason\", \"Nenad\", \"Chris\", \"Callan\"];\n",
    "\n",
    "print(names);\n",
    "\n",
    "print(names[0].lower());\n",
    "print(names[1].upper());\n",
    "print(names[2].title());\n",
    "print(names[-1]);"
   ]
  },
  {
   "cell_type": "markdown",
   "id": "05c33b25",
   "metadata": {},
   "source": [
    "3-2. Greetings: Start with the list you used in Exercise 3-1, but instead of just printing each person’s name, print a message to them. The text of each message should be the same, but each message should be personalized with the person’s name."
   ]
  },
  {
   "cell_type": "code",
   "execution_count": 2,
   "id": "c37d6610",
   "metadata": {},
   "outputs": [
    {
     "name": "stdout",
     "output_type": "stream",
     "text": [
      "Hello Jason! How are you?\n",
      "Hello Nenad! How are you?\n",
      "Hello Chris! How are you?\n",
      "Hello Callan! How are you?\n"
     ]
    }
   ],
   "source": [
    "names = [\"Jason\", \"Nenad\", \"Chris\", \"Callan\"];\n",
    "\n",
    "print(f\"Hello {names[0].title()}! How are you?\");\n",
    "\n",
    "print(f\"Hello {names[1].title()}! How are you?\");\n",
    "\n",
    "print(f\"Hello {names[2].title()}! How are you?\");\n",
    "\n",
    "print(f\"Hello {names[3].title()}! How are you?\");"
   ]
  },
  {
   "cell_type": "markdown",
   "id": "38fed4a1",
   "metadata": {},
   "source": [
    "3-3. Your Own List: Think of your favorite mode of transportation, such as a motorcycle or a car, and make a list that stores several examples. Use your list to print a series of statements about these items, such as “I would like to own a Honda motorcycle.”"
   ]
  },
  {
   "cell_type": "code",
   "execution_count": 3,
   "id": "53aa0260",
   "metadata": {},
   "outputs": [
    {
     "name": "stdout",
     "output_type": "stream",
     "text": [
      "I would like to own a bike.\n",
      "I take bus to work everyday.\n"
     ]
    }
   ],
   "source": [
    "my_own_list = ['bike', 'subway', 'cab', 'bus'];\n",
    "\n",
    "message1 = \"I would like to own a \"+my_own_list[0]+\".\";\n",
    "print(message1);\n",
    "\n",
    "message2 = \"I take \"+my_own_list[-1]+\" to work everyday.\";\n",
    "print(message2);"
   ]
  },
  {
   "cell_type": "markdown",
   "id": "3df2c070",
   "metadata": {},
   "source": [
    "3-4. Guest List: If you could invite anyone, living or deceased, to dinner, who would you invite? Make a list that includes at least three people you’d like to invite to dinner. Then use your list to print a message to each person, inviting them to dinner."
   ]
  },
  {
   "cell_type": "code",
   "execution_count": 4,
   "id": "2cee0da1",
   "metadata": {},
   "outputs": [
    {
     "name": "stdout",
     "output_type": "stream",
     "text": [
      "Hi Jason, would you like to join my dinner party?\n",
      "Hi Callan, would you like to join my dinner party?\n",
      "Hi Xuanbin, would you like to join my dinner party?\n"
     ]
    }
   ],
   "source": [
    "guest_list = ['Jason', 'Callan', 'Xuanbin'];\n",
    "\n",
    "message_to_jason = f\"Hi {guest_list[0]}, would you like to join my dinner party?\";\n",
    "print(message_to_jason);\n",
    "\n",
    "message_to_callan = f\"Hi {guest_list[1]}, would you like to join my dinner party?\";\n",
    "print(message_to_callan);\n",
    "\n",
    "message_to_xuanbin = f\"Hi {guest_list[-1]}, would you like to join my dinner party?\";\n",
    "print(message_to_xuanbin);"
   ]
  },
  {
   "cell_type": "markdown",
   "id": "aa2986ed",
   "metadata": {},
   "source": [
    "3-5. Changing Guest List: You just heard that one of your guests can’t make the dinner, so you need to send out a new set of invitations. You’ll have to think of someone else to invite.\n",
    "• Start with your program from Exercise 3-4. Add a print() call at the end of your program stating the name of the guest who can’t make it.\n",
    "• Modify your list, replacing the name of the guest who can’t make it with the name of the new person you are inviting.\n",
    "• Print a second set of invitation messages, one for each person who is still in your list."
   ]
  },
  {
   "cell_type": "code",
   "execution_count": 5,
   "id": "54827905",
   "metadata": {},
   "outputs": [
    {
     "name": "stdout",
     "output_type": "stream",
     "text": [
      "The original guest list includes Jason, Callan, and Xuanbin.\n",
      "Unfortunately, Jason can't make the dinner.\n",
      "Hi Chris, are you willing to join my dinner?\n",
      "Hi Callan, are you willing to join my dinner?\n",
      "Hi Xuanbin, are you willing to join my dinner?\n"
     ]
    }
   ],
   "source": [
    "#print out the original guest list\n",
    "guest_list = ['Jason', 'Callan', 'Xuanbin'];\n",
    "print(f'The original guest list includes {guest_list[0]}, {guest_list[1]}, and {guest_list[2]}.');\n",
    "\n",
    "#remove the guest using the pop() method.\n",
    "removed_guest = guest_list.pop(0)\n",
    "print(f\"Unfortunately, {removed_guest} can't make the dinner.\");\n",
    "\n",
    "#replaced the removed guest with the new guest using insert().\n",
    "guest_list.insert(0, \"Chris\");\n",
    "\n",
    "#send invitations\n",
    "print(f'Hi {guest_list[0]}, are you willing to join my dinner?');\n",
    "print(f'Hi {guest_list[1]}, are you willing to join my dinner?');\n",
    "print(f'Hi {guest_list[-1]}, are you willing to join my dinner?');"
   ]
  },
  {
   "cell_type": "markdown",
   "id": "9901c8fa",
   "metadata": {},
   "source": [
    "3-6. More Guests: You just found a bigger dinner table, so now more space is available. Think of three more guests to invite to dinner.\n",
    "• Start with your program from Exercise 3-4 or Exercise 3-5. Add a print() call to the end of your program informing people that you found a bigger dinner table.\n",
    "• Use insert() to add one new guest to the beginning of your list.\n",
    "• Use insert() to add one new guest to the middle of your list.\n",
    "• Use append() to add one new guest to the end of your list.\n",
    "• Print a new set of invitation messages, one for each person in your list."
   ]
  },
  {
   "cell_type": "code",
   "execution_count": 6,
   "id": "682f33ac",
   "metadata": {},
   "outputs": [
    {
     "name": "stdout",
     "output_type": "stream",
     "text": [
      "Hey Chris, Callan, and Xuanbin! \n",
      "\t\n",
      "We got a larger-than-expected table. We will have more people to join us! \n",
      "\t\n",
      "Cheers,\n",
      "\t\n",
      "Li Zhaozhi\n",
      "['Nenad', 'Chris', 'Callan', 'Xuanbin']\n",
      "['Nenad', 'Chris', 'Steve', 'Callan', 'Xuanbin']\n",
      "['Nenad', 'Chris', 'Steve', 'Callan', 'Xuanbin', 'George']\n",
      "Hi Nenad, are you able to join my dinner?\n",
      "Hi Chris, are you able to join my dinner?\n",
      "Hi Steve, are you able to join my dinner?\n",
      "Hi Callan, are you able to join my dinner?\n",
      "Hi Xuanbin, are you able to join my dinner?\n",
      "Hi George, are you able to join my dinner?\n"
     ]
    }
   ],
   "source": [
    "guest_list = ['Chris', 'Callan', 'Xuanbin'];\n",
    "\n",
    "#inform existing guests that more people will join.\n",
    "print(f'''Hey {guest_list[0]}, {guest_list[1]}, and {guest_list[2]}! \n",
    "\t\\nWe got a larger-than-expected table. We will have more people to join us! \n",
    "\t\\nCheers,\n",
    "\t\\nLi Zhaozhi''');\n",
    "\n",
    "#Use insert() to add one new guest to the beginning of your list.\n",
    "guest_list.insert(0, \"Nenad\");\n",
    "print(guest_list);\n",
    "\n",
    "#Use insert() to add one new guest to the middle of your list.\n",
    "guest_list.insert(2, \"Steve\");\n",
    "print(guest_list);\n",
    "\n",
    "#Use append() to add one new guest to the end of your list.\n",
    "guest_list.append(\"George\");\n",
    "print(guest_list);\n",
    "\n",
    "#Print a new set of invitation messages, one for each person in your list.\n",
    "print(f'Hi {guest_list[0]}, are you able to join my dinner?');\n",
    "print(f'Hi {guest_list[1]}, are you able to join my dinner?');\n",
    "print(f'Hi {guest_list[2]}, are you able to join my dinner?');\n",
    "print(f'Hi {guest_list[3]}, are you able to join my dinner?');\n",
    "print(f'Hi {guest_list[4]}, are you able to join my dinner?');\n",
    "print(f'Hi {guest_list[5]}, are you able to join my dinner?');"
   ]
  },
  {
   "cell_type": "markdown",
   "id": "68447876",
   "metadata": {},
   "source": [
    "3-7. Shrinking Guest List: You just found out that your new dinner table won’t arrive in time for the dinner, and you have space for only two guests.\n",
    "• Start with your program from Exercise 3-6. Add a new line that prints a message saying that you can invite only two people for dinner.\n",
    "• Use pop() to remove guests from your list one at a time until only two names remain in your list. Each time you pop a name from your list, print a message to that person letting them know you’re sorry you can’t invite them to dinner.\n",
    "• Print a message to each of the two people still on your list, letting them know they’re still invited.\n",
    "• Use del to remove the last two names from your list, so you have an empty list. Print your list to make sure you actually have an empty list at the end of your program."
   ]
  },
  {
   "cell_type": "code",
   "execution_count": 7,
   "id": "11905175",
   "metadata": {},
   "outputs": [
    {
     "name": "stdout",
     "output_type": "stream",
     "text": [
      "Hello Nenad, Chris, Steve, Callan, Xuanbin, and George,\n",
      "\t\n",
      "Unfortunately, there is enough space for only two guests.\n",
      "\t\n",
      "Zhaozhi\n",
      "Sorry George, I am unable to invite you to dinner.\n",
      "Sorry Xuanbin, I am unable to invite you to dinner.\n",
      "Sorry Callan, I am unable to invite you to dinner.\n",
      "Sorry Steve, I am unable to invite you to dinner.\n",
      "['Nenad', 'Chris']\n",
      "Hi Nenad, you're still invited to my dinner.\n",
      "Hi Chris, you're still invited to my dinner.\n",
      "[]\n"
     ]
    }
   ],
   "source": [
    "guest_list = ['Nenad', 'Chris', 'Steve', 'Callan', 'Xuanbin', 'George'];\n",
    "\n",
    "''' Start with your program from Exercise 3-6. Add a new line that prints a\n",
    "message saying that you can invite only two people for dinner.\n",
    "'''\n",
    "print(f'''Hello {guest_list[0]}, {guest_list[1]}, {guest_list[2]}, {guest_list[3]}, {guest_list[4]}, and {guest_list[5]},\n",
    "\t\\nUnfortunately, there is enough space for only two guests.\n",
    "\t\\nZhaozhi''');\n",
    "\n",
    "''' Use pop() to remove guests from your list one at a time until only two\n",
    "names remain in your list. Each time you pop a name from your list, print\n",
    "a message to that person letting them know you’re sorry you can’t invite\n",
    "them to dinner.\n",
    "'''\n",
    "dropped_guest = guest_list.pop();\n",
    "print(f'Sorry {dropped_guest}, I am unable to invite you to dinner.');\n",
    "\n",
    "dropped_guest = guest_list.pop();\n",
    "print(f'Sorry {dropped_guest}, I am unable to invite you to dinner.');\n",
    "\n",
    "dropped_guest = guest_list.pop();\n",
    "print(f'Sorry {dropped_guest}, I am unable to invite you to dinner.');\n",
    "\n",
    "dropped_guest = guest_list.pop();\n",
    "print(f'Sorry {dropped_guest}, I am unable to invite you to dinner.');\n",
    "\n",
    "print(guest_list);\n",
    "\n",
    "'''\n",
    "Print a message to each of the two people still on your list, letting them\n",
    "know they’re still invited.\n",
    "'''\n",
    "\n",
    "print(f\"Hi {guest_list[0]}, you're still invited to my dinner.\");\n",
    "print(f\"Hi {guest_list[1]}, you're still invited to my dinner.\");\n",
    "\n",
    "'''\n",
    "Use del to remove the last two names from your list, so you have an empty\n",
    "list. Print your list to make sure you actually have an empty list at the end\n",
    "of your program.\n",
    "'''\n",
    "del guest_list[0];\n",
    "del guest_list[0];\n",
    "print(guest_list);"
   ]
  },
  {
   "cell_type": "markdown",
   "id": "6c94461f",
   "metadata": {},
   "source": [
    "3-8. Seeing the World: Think of at least five places in the world you’d like to visit.\n",
    "• Store the locations in a list. Make sure the list is not in alphabetical order.\n",
    "• Print your list in its original order. Don’t worry about printing the list neatly,just print it as a raw Python list.\n",
    "• Use sorted() to print your list in alphabetical order without modifying the actual list.\n",
    "• Show that your list is still in its original order by printing it.\n",
    "• Use sorted() to print your list in reverse alphabetical order without changing the order of the original list.\n",
    "• Show that your list is still in its original order by printing it again.\n",
    "• Use reverse() to change the order of your list. Print the list to show that its order has changed.\n",
    "• Use reverse() to change the order of your list again. Print the list to show it’s back to its original order.\n",
    "• Use sort() to change your list so it’s stored in alphabetical order. Print the list to show that its order has been changed.\n",
    "• Use sort() to change your list so it’s stored in reverse alphabetical order.Print the list to show that its order has changed."
   ]
  },
  {
   "cell_type": "code",
   "execution_count": 8,
   "id": "4c11decf",
   "metadata": {},
   "outputs": [
    {
     "name": "stdout",
     "output_type": "stream",
     "text": [
      "['macau', 'hong kong', 'canada', 'taiwan', 'singapore']\n",
      "['canada', 'hong kong', 'macau', 'singapore', 'taiwan']\n",
      "['macau', 'hong kong', 'canada', 'taiwan', 'singapore']\n",
      "['taiwan', 'singapore', 'macau', 'hong kong', 'canada']\n",
      "['macau', 'hong kong', 'canada', 'taiwan', 'singapore']\n",
      "['singapore', 'taiwan', 'canada', 'hong kong', 'macau']\n",
      "['macau', 'hong kong', 'canada', 'taiwan', 'singapore']\n",
      "['canada', 'hong kong', 'macau', 'singapore', 'taiwan']\n",
      "['taiwan', 'singapore', 'macau', 'hong kong', 'canada']\n"
     ]
    }
   ],
   "source": [
    "'''\n",
    "Store the locations in a list. Make sure the list is not in alphabetical order.\n",
    "'''\n",
    "locations = [\"macau\", \"hong kong\", \"canada\", \"taiwan\", \"singapore\"];\n",
    "\n",
    "'''\n",
    "Print your list in its original order. Don’t worry about printing the list neatly,\n",
    "just print it as a raw Python list.\n",
    "'''\n",
    "print(locations);\n",
    "\n",
    "'''\n",
    "Use sorted() to print your list in alphabetical order without modifying the\n",
    "actual list.\n",
    "'''\n",
    "print(sorted(locations));\n",
    "\n",
    "'''\n",
    "Show that your list is still in its original order by printing it.\n",
    "'''\n",
    "print(locations);\n",
    "\n",
    "'''\n",
    "Use sorted() to print your list in reverse alphabetical order without changing\n",
    "the order of the original list.\n",
    "'''\n",
    "print(sorted(locations, reverse=True));\n",
    "\n",
    "'''\n",
    "Show that your list is still in its original order by printing it again.\n",
    "'''\n",
    "print(locations);\n",
    "\n",
    "'''\n",
    "Use reverse() to change the order of your list. Print the list to show that its\n",
    "order has changed.\n",
    "'''\n",
    "locations.reverse()\n",
    "print(locations);\n",
    "\n",
    "'''\n",
    "Use reverse() to change the order of your list again. Print the list to show\n",
    "it’s back to its original order.\n",
    "'''\n",
    "locations.reverse()\n",
    "print(locations);\n",
    "\n",
    "'''\n",
    "Use sort() to change your list so it’s stored in alphabetical order. Print the\n",
    "list to show that its order has been changed.\n",
    "'''\n",
    "locations.sort();\n",
    "print(locations);\n",
    "\n",
    "'''\n",
    "Use sort() to change your list so it’s stored in reverse alphabetical order.\n",
    "Print the list to show that its order has changed.\n",
    "'''\n",
    "locations.sort(reverse=True);\n",
    "print(locations);"
   ]
  },
  {
   "cell_type": "markdown",
   "id": "768707d4",
   "metadata": {},
   "source": [
    "3-9. Dinner Guests: Working with one of the programs from Exercises 3-4 through 3-7 (page 42), use len() to print a message indicating the number of people you are inviting to dinner."
   ]
  },
  {
   "cell_type": "code",
   "execution_count": 9,
   "id": "97bea4a0",
   "metadata": {},
   "outputs": [
    {
     "name": "stdout",
     "output_type": "stream",
     "text": [
      "3\n"
     ]
    }
   ],
   "source": [
    "guest_list = ['Chris', 'Callan', 'Xuanbin'];\n",
    "print(len(guest_list));"
   ]
  },
  {
   "cell_type": "markdown",
   "id": "09c64e01",
   "metadata": {},
   "source": [
    "3-10. Every Function: Think of something you could store in a list. For example, you could make a list of mountains, rivers, countries, cities, languages, or anything else you’d like. Write a program that creates a list containing these items and then uses each function introduced in this chapter at least once."
   ]
  },
  {
   "cell_type": "code",
   "execution_count": 10,
   "id": "33cc4d5a",
   "metadata": {},
   "outputs": [
    {
     "name": "stdout",
     "output_type": "stream",
     "text": [
      "['blue', 'red', 'yellow', 'green', 'pink']\n",
      "['pink', 'green', 'yellow', 'red', 'blue']\n",
      "['blue', 'green', 'pink', 'red', 'yellow']\n",
      "['yellow', 'red', 'pink', 'green', 'blue']\n",
      "['blue', 'green', 'purple', 'red', 'yellow']\n"
     ]
    }
   ],
   "source": [
    "#create a list containing five different colors.\n",
    "colors = [\"blue\", \"red\", \"yellow\", \"green\", \"pink\"];\n",
    "print(colors);\n",
    "\n",
    "#reverse order\n",
    "colors.reverse();\n",
    "print(colors);\n",
    "\n",
    "#alphebatical order\n",
    "colors.sort();\n",
    "print(colors);\n",
    "\n",
    "#reversed alphebatical order\n",
    "colors.sort(reverse=True);\n",
    "print(colors);\n",
    "\n",
    "#change yellow to purple !!!\n",
    "colors.sort();\n",
    "colors[2] = \"purple\";\n",
    "print(colors);"
   ]
  },
  {
   "cell_type": "markdown",
   "id": "93f417df",
   "metadata": {},
   "source": [
    "3-11. Intentional Error: If you haven’t received an index error in one of your programs yet, try to make one happen. Change an index in one of your programs to produce an index error. Make sure you correct the error before closing the program."
   ]
  },
  {
   "cell_type": "code",
   "execution_count": 11,
   "id": "eb84247a",
   "metadata": {},
   "outputs": [
    {
     "ename": "IndexError",
     "evalue": "list index out of range",
     "output_type": "error",
     "traceback": [
      "\u001b[1;31m---------------------------------------------------------------------------\u001b[0m",
      "\u001b[1;31mIndexError\u001b[0m                                Traceback (most recent call last)",
      "\u001b[1;32mC:\\Users\\ZHAOZH~1\\AppData\\Local\\Temp/ipykernel_9412/285895807.py\u001b[0m in \u001b[0;36m<module>\u001b[1;34m\u001b[0m\n\u001b[0;32m      1\u001b[0m \u001b[0mlist_errors\u001b[0m \u001b[1;33m=\u001b[0m \u001b[1;33m[\u001b[0m\u001b[1;34m\"Python\"\u001b[0m\u001b[1;33m,\u001b[0m \u001b[1;34m\"JavaScript\"\u001b[0m\u001b[1;33m,\u001b[0m \u001b[1;34m\"C#\"\u001b[0m\u001b[1;33m]\u001b[0m\u001b[1;33m;\u001b[0m\u001b[1;33m\u001b[0m\u001b[1;33m\u001b[0m\u001b[0m\n\u001b[1;32m----> 2\u001b[1;33m \u001b[0mprint\u001b[0m\u001b[1;33m(\u001b[0m\u001b[0mlist_errors\u001b[0m\u001b[1;33m[\u001b[0m\u001b[1;33m-\u001b[0m\u001b[1;36m4\u001b[0m\u001b[1;33m]\u001b[0m\u001b[1;33m)\u001b[0m\u001b[1;33m;\u001b[0m\u001b[1;33m\u001b[0m\u001b[1;33m\u001b[0m\u001b[0m\n\u001b[0m\u001b[0;32m      3\u001b[0m \u001b[1;33m\u001b[0m\u001b[0m\n\u001b[0;32m      4\u001b[0m '''\n\u001b[0;32m      5\u001b[0m \u001b[0mTraceback\u001b[0m \u001b[1;33m(\u001b[0m\u001b[0mmost\u001b[0m \u001b[0mrecent\u001b[0m \u001b[0mcall\u001b[0m \u001b[0mlast\u001b[0m\u001b[1;33m)\u001b[0m\u001b[1;33m:\u001b[0m\u001b[1;33m\u001b[0m\u001b[1;33m\u001b[0m\u001b[0m\n",
      "\u001b[1;31mIndexError\u001b[0m: list index out of range"
     ]
    }
   ],
   "source": [
    "list_errors = [\"Python\", \"JavaScript\", \"C#\"];\n",
    "print(list_errors[-4]);\n",
    "\n",
    "'''\n",
    "Traceback (most recent call last):\n",
    "    print(list_errors[-4]);\n",
    "IndexError: list index out of range\n",
    "[Finished in 0.4s with exit code 1]\n",
    "'''"
   ]
  }
 ],
 "metadata": {
  "kernelspec": {
   "display_name": "Python 3 (ipykernel)",
   "language": "python",
   "name": "python3"
  },
  "language_info": {
   "codemirror_mode": {
    "name": "ipython",
    "version": 3
   },
   "file_extension": ".py",
   "mimetype": "text/x-python",
   "name": "python",
   "nbconvert_exporter": "python",
   "pygments_lexer": "ipython3",
   "version": "3.9.12"
  }
 },
 "nbformat": 4,
 "nbformat_minor": 5
}
