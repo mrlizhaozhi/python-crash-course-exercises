{
 "cells": [
  {
   "cell_type": "markdown",
   "id": "ace1c866",
   "metadata": {},
   "source": [
    "# Chapter 5. if Statements"
   ]
  },
  {
   "cell_type": "markdown",
   "id": "cabacf26",
   "metadata": {},
   "source": [
    "5-1. Conditional Tests: Write a series of conditional tests. Print a statement describing each test and your prediction for the results of each test. Your code should look something like this:\n",
    "\n",
    "car = 'subaru'\n",
    "print(\"Is car == 'subaru'? I predict True.\")\n",
    "print(car == 'subaru')\n",
    "print(\"\\nIs car == 'audi'? I predict False.\")\n",
    "print(car == 'audi')\n",
    "\n",
    "• Look closely at your results, and make sure you understand why each line evaluates to True or False.\n",
    "• Create at least ten tests. Have at least five tests evaluate to True and another five tests evaluate to False."
   ]
  },
  {
   "cell_type": "code",
   "execution_count": 1,
   "id": "481d9cb0",
   "metadata": {},
   "outputs": [
    {
     "name": "stdout",
     "output_type": "stream",
     "text": [
      "Is blue in colors? I predict False.\n",
      "False\n",
      "Is green in colors? I predict True.\n",
      "True\n",
      "False\n",
      "False\n",
      "True\n",
      "True\n",
      "False\n",
      "True\n",
      "True\n",
      "True\n",
      "['red', 'yellow', 'green']\n",
      "Good\n",
      "3\n"
     ]
    }
   ],
   "source": [
    "colors = [\"red\", \"yellow\", \"green\"];\n",
    "print(\"Is blue in colors? I predict False.\");\n",
    "print(\"blue\" in colors);\n",
    "print(\"Is green in colors? I predict True.\");\n",
    "print(\"Green\".lower() in colors);\n",
    "\n",
    "x = 10\n",
    "y = 3\n",
    "print(x > 10);\n",
    "print(x > 10 and y == 3);\n",
    "print(x > 10 or y == 3);\n",
    "print(x != 11);\n",
    "\n",
    "x = \"Good\";\n",
    "print(x == \"good\");\n",
    "print(x.lower() == \"good\");\n",
    "print(x == \"good\".title());\n",
    "\n",
    "print(x not in colors);\n",
    "print(colors);\n",
    "\n",
    "print(x);\n",
    "print(y);"
   ]
  },
  {
   "cell_type": "markdown",
   "id": "239ffcdb",
   "metadata": {},
   "source": [
    "5-2. More Conditional Tests: You don’t have to limit the number of tests you create to ten. If you want to try more comparisons, write more tests and add them to conditional_tests.py. Have at least one True and one False result for each of the following:\n",
    "• Tests for equality and inequality with strings\n",
    "• Tests using the lower() method\n",
    "• Numerical tests involving equality and inequality, greater than and less than, greater than or equal to, and less than or equal to\n",
    "• Tests using the and keyword and the or keyword\n",
    "• Test whether an item is in a list\n",
    "• Test whether an item is not in a list"
   ]
  },
  {
   "cell_type": "code",
   "execution_count": 2,
   "id": "d936acf1",
   "metadata": {},
   "outputs": [
    {
     "name": "stdout",
     "output_type": "stream",
     "text": [
      "True\n",
      "False\n",
      "True\n",
      "True\n",
      "True\n",
      "True\n",
      "True\n",
      "True\n",
      "True\n"
     ]
    }
   ],
   "source": [
    "value1 = \"Yes\";\n",
    "value2 = \"No\";\n",
    "\n",
    "print(value1 != value2);\n",
    "print(value1 == value2);\n",
    "print(value1.upper() == \"YES\" and value2.lower() == \"no\");\n",
    "print(value1.upper() == \"YES\" or value2.upper() == \"NOPE\");\n",
    "\n",
    "value3 = \"Unknown\";\n",
    "\n",
    "booleen_list = [\"Yes\", \"No\", \"unknown\"];\n",
    "print(value1 in booleen_list and value2 in booleen_list);\n",
    "print(value1 in booleen_list and value3 not in booleen_list);\n",
    "print(value1 in booleen_list and value3.lower() in booleen_list);\n",
    "\n",
    "num1 = -10;\n",
    "num2 = 10;\n",
    "num3 = 20;\n",
    "\n",
    "print(-10 + 20 > 0);\n",
    "print(-10 <= -10 or 20 > 20);"
   ]
  },
  {
   "cell_type": "markdown",
   "id": "b013cd2a",
   "metadata": {},
   "source": [
    "5-3. Alien Colors #1: Imagine an alien was just shot down in a game. Create a variable called alien_color and assign it a value of 'green', 'yellow', or 'red'.\n",
    "• Write an if statement to test whether the alien’s color is green. If it is, print a message that the player just earned 5 points.\n",
    "• Write one version of this program that passes the if test and another that fails. (The version that fails will have no output.)"
   ]
  },
  {
   "cell_type": "code",
   "execution_count": 3,
   "id": "585a3d5e",
   "metadata": {},
   "outputs": [
    {
     "name": "stdout",
     "output_type": "stream",
     "text": [
      "Congrats! You just earned 5 points!\n",
      "Your current score is 5.\n"
     ]
    }
   ],
   "source": [
    "alien_color = 'green';\n",
    "score = 0;\n",
    "if alien_color == 'green':\n",
    "\tprint(\"Congrats! You just earned 5 points!\");\n",
    "\tscore = score + 5;\n",
    "\tprint(f'Your current score is {score}.');\n",
    "else:\n",
    "\tprint(\"Try again!\");"
   ]
  },
  {
   "cell_type": "markdown",
   "id": "7e1fdcf5",
   "metadata": {},
   "source": [
    "5-4. Alien Colors #2: Choose a color for an alien as you did in Exercise 5-3, and write an if-else chain.\n",
    "• If the alien’s color is green, print a statement that the player just earned 5 points for shooting the alien.\n",
    "• If the alien’s color isn’t green, print a statement that the player just earned 10 points.\n",
    "• Write one version of this program that runs the if block and another that runs the else block."
   ]
  },
  {
   "cell_type": "code",
   "execution_count": 4,
   "id": "d483ddc4",
   "metadata": {},
   "outputs": [
    {
     "name": "stdout",
     "output_type": "stream",
     "text": [
      "Congrats! You just earned 5 points!\n",
      "Your current score is 5.\n"
     ]
    }
   ],
   "source": [
    "alien_color = \"green\";\n",
    "score = 0;\n",
    "if alien_color == \"green\":\n",
    "\tprint(\"Congrats! You just earned 5 points!\");\n",
    "\tscore = score + 5;\n",
    "else:\n",
    "\tprint(\"You just earned 10 points!\")\n",
    "\tscore = score + 10;\n",
    "\n",
    "print(f'Your current score is {score}.');"
   ]
  },
  {
   "cell_type": "markdown",
   "id": "2e07c2b1",
   "metadata": {},
   "source": [
    "5-5. Alien Colors #3: Turn your if-else chain from Exercise 5-4 into an if-elifelse chain.\n",
    "• If the alien is green, print a message that the player earned 5 points.\n",
    "• If the alien is yellow, print a message that the player earned 10 points.\n",
    "• If the alien is red, print a message that the player earned 15 points.\n",
    "• Write three versions of this program, making sure each message is printed for the appropriate color alien."
   ]
  },
  {
   "cell_type": "code",
   "execution_count": 5,
   "id": "d9953249",
   "metadata": {},
   "outputs": [
    {
     "name": "stdout",
     "output_type": "stream",
     "text": [
      "Your score is 0.\n"
     ]
    }
   ],
   "source": [
    "alien_color = \" \";\n",
    "score = 0;\n",
    "if alien_color == \"green\":\n",
    "\tprint(\"You just earned 5 points!\");\n",
    "\tscore = score + 5;\n",
    "elif alien_color ==\"yellow\":\n",
    "\tprint(\"You just earned 10 points!\");\n",
    "\tscore = score + 10;\n",
    "elif alien_color == \"red\":\n",
    "\tprint(\"You just earned 15 points!\");\n",
    "\tscore = score + 15;\n",
    "print(f'Your score is {score}.');"
   ]
  },
  {
   "cell_type": "markdown",
   "id": "ac3eab0e",
   "metadata": {},
   "source": [
    "5-6. Stages of Life: Write an if-elif-else chain that determines a person's stage of life. Set a value for the variable age, and then:\n",
    "• If the person is less than 2 years old, print a message that the person is a baby.\n",
    "• If the person is at least 2 years old but less than 4, print a message that the person is a toddler.\n",
    "• If the person is at least 4 years old but less than 13, print a message that the person is a kid.\n",
    "• If the person is at least 13 years old but less than 20, print a message that the person is a teenager.\n",
    "• If the person is at least 20 years old but less than 65, print a message that the person is an adult.\n",
    "• If the person is age 65 or older, print a message that the person is an elder."
   ]
  },
  {
   "cell_type": "code",
   "execution_count": 6,
   "id": "95056350",
   "metadata": {},
   "outputs": [
    {
     "name": "stdout",
     "output_type": "stream",
     "text": [
      "You're an elder\n"
     ]
    }
   ],
   "source": [
    "age = 70;\n",
    "if age < 2:\n",
    "\tprint(\"You're a baby!\");\n",
    "elif 4 <= age < 13:\n",
    "\tprint(\"You're a kid.\");\n",
    "elif 13 <= age < 20:\n",
    "\tprint(\"You're a teenager\");\n",
    "elif 20 <= age < 65:\n",
    "\tprint(\"You're an adult.\");\n",
    "elif age >= 65:\n",
    "\tprint(\"You're an elder\");"
   ]
  },
  {
   "cell_type": "markdown",
   "id": "81be8ed4",
   "metadata": {},
   "source": [
    "5-7. Favorite Fruit: Make a list of your favorite fruits, and then write a series of independent if statements that check for certain fruits in your list.\n",
    "• Make a list of your three favorite fruits and call it favorite_fruits.\n",
    "• Write five if statements. Each should check whether a certain kind of fruit is in your list. If the fruit is in your list, the if block should print a statement,such as You really like bananas!"
   ]
  },
  {
   "cell_type": "code",
   "execution_count": 7,
   "id": "1a7336fb",
   "metadata": {},
   "outputs": [
    {
     "name": "stdout",
     "output_type": "stream",
     "text": [
      "I really like apples!\n",
      "I really like bananas!\n",
      "Grapes are not my favorite fruit.\n"
     ]
    }
   ],
   "source": [
    "favorite_fruits = {\"apple\", \"banana\", \"orange\"};\n",
    "if \"apple\" in favorite_fruits:\n",
    "\tprint(\"I really like apples!\")\n",
    "if \"banana\" in favorite_fruits:\n",
    "\tprint(\"I really like bananas!\");\n",
    "if \"grapes\" not in favorite_fruits:\n",
    "\tprint(\"Grapes are not my favorite fruit.\");"
   ]
  },
  {
   "cell_type": "markdown",
   "id": "9a49c441",
   "metadata": {},
   "source": [
    "5-8. Hello Admin: Make a list of five or more usernames, including the name 'admin'. Imagine you are writing code that will print a greeting to each user after they log in to a website. Loop through the list, and print a greeting to each user:\n",
    "• If the username is 'admin', print a special greeting, such as Hello admin,would you like to see a status report?\n",
    "• Otherwise, print a generic greeting, such as Hello Jaden, thank you for logging in again."
   ]
  },
  {
   "cell_type": "code",
   "execution_count": 8,
   "id": "3232648a",
   "metadata": {},
   "outputs": [
    {
     "name": "stdout",
     "output_type": "stream",
     "text": [
      "Hello admin, would you like to see a status report?\n",
      "Hello zhaozhi, welcome back!\n",
      "Hello jason, welcome back!\n",
      "Hello callan, welcome back!\n",
      "Hello christine, welcome back!\n"
     ]
    }
   ],
   "source": [
    "usernames = ['admin', 'zhaozhi', 'jason', 'callan', 'christine'];\n",
    "for username in usernames:\n",
    "\tif username == \"admin\":\n",
    "\t\tprint(f'Hello {username}, would you like to see a status report?');\n",
    "\telse:\n",
    "\t\tprint(f'Hello {username}, welcome back!');"
   ]
  },
  {
   "cell_type": "markdown",
   "id": "0b0999d8",
   "metadata": {},
   "source": [
    "5-9. No Users: Add an if test to hello_admin.py to make sure the list of users is not empty.\n",
    "• If the list is empty, print the message We need to find some users!\n",
    "• Remove all of the usernames from your list, and make sure the correct message is printed."
   ]
  },
  {
   "cell_type": "code",
   "execution_count": 9,
   "id": "241f6a10",
   "metadata": {},
   "outputs": [
    {
     "name": "stdout",
     "output_type": "stream",
     "text": [
      "We need to find some users!\n"
     ]
    }
   ],
   "source": [
    "usernames = ['admin', 'zhaozhi', 'jason', 'callan', 'christine'];\n",
    "usernames = [];\n",
    "if usernames:\n",
    "\tfor username in usernames:\n",
    "\t\tif username == \"admin\":\n",
    "\t\t\tprint(f'Hello {username}, would you like to see a status report?');\n",
    "\t\telse:\n",
    "\t\t\tprint(f'Hello {username}, welcome back!');\n",
    "else:\n",
    "\tprint(\"We need to find some users!\");"
   ]
  },
  {
   "cell_type": "markdown",
   "id": "cfab9dfd",
   "metadata": {},
   "source": [
    "5-10. Checking Usernames: Do the following to create a program that simulates how websites ensure that everyone has a unique username.\n",
    "• Make a list of five or more usernames called current_users.\n",
    "• Make another list of five usernames called new_users. Make sure one or two of the new usernames are also in the current_users list.\n",
    "• Loop through the new_users list to see if each new username has already been used. If it has, print a message that the person will need to enter a new username. If a username has not been used, print a message saying that the username is available.\n",
    "• Make sure your comparison is case insensitive. If 'John' has been used,'JOHN' should not be accepted. (To do this, you’ll need to make a copy of current_users containing the lowercase versions of all existing users.)"
   ]
  },
  {
   "cell_type": "code",
   "execution_count": 10,
   "id": "5a564816",
   "metadata": {},
   "outputs": [
    {
     "name": "stdout",
     "output_type": "stream",
     "text": [
      "Sorry, please select a different username.\n",
      "Sorry, please select a different username.\n",
      "The username is available\n",
      "The username is available\n",
      "The username is available\n",
      "Click here to sign up.\n"
     ]
    }
   ],
   "source": [
    "current_users = [\"zhaozhi_li\", \"jason_rivera\", \"callan_davey\", \"christine_david\", \"terence_ow\"];\n",
    "new_users = [\"zhaozhi_li\", \"jason_rivera\", \"edward_micthell\", \"ted_anderson\", \"bryan_baland\"];\n",
    "for new_users in new_users:\n",
    "\tif new_users in current_users:\n",
    "\t\tprint(\"Sorry, please select a different username.\");\n",
    "\telse:\n",
    "\t\tprint(\"The username is available\");\n",
    "print(\"Click here to sign up.\");\n",
    "\n",
    "#review this exercise"
   ]
  },
  {
   "cell_type": "markdown",
   "id": "f39ffb1e",
   "metadata": {},
   "source": [
    "5-11. Ordinal Numbers: Ordinal numbers indicate their position in a list, such as 1st or 2nd. Most ordinal numbers end in th, except 1, 2, and 3.\n",
    "• Store the numbers 1 through 9 in a list.\n",
    "• Loop through the list.\n",
    "• Use an if-elif-else chain inside the loop to print the proper ordinal ending for each number. Your output should read \"1st 2nd 3rd 4th 5th 6th 7th 8th 9th\", and each result should be on a separate line."
   ]
  },
  {
   "cell_type": "code",
   "execution_count": 11,
   "id": "7192ad11",
   "metadata": {},
   "outputs": [
    {
     "name": "stdout",
     "output_type": "stream",
     "text": [
      "[1, 2, 3, 4, 5, 6, 7, 8, 9]\n",
      "1st\n",
      "2nd\n",
      "3rd\n",
      "4th\n",
      "5th\n",
      "6th\n",
      "7th\n",
      "8th\n",
      "9th\n"
     ]
    }
   ],
   "source": [
    "numbers = [value for value in range(1, 10)];\n",
    "print(numbers);\n",
    "\n",
    "for i in numbers:\n",
    "\tif i == 1:\n",
    "\t\tprint(f'{i}st');\n",
    "\telif i == 2:\n",
    "\t\tprint(f'{i}nd');\n",
    "\telif i == 3:\n",
    "\t\tprint(f'{i}rd');\n",
    "\telse:\n",
    "\t\tprint(f'{i}th');"
   ]
  },
  {
   "cell_type": "markdown",
   "id": "16b628e8",
   "metadata": {},
   "source": [
    "5-12. Styling if statements: Review the programs you wrote in this chapter, and make sure you styled your conditional tests appropriately."
   ]
  },
  {
   "cell_type": "code",
   "execution_count": null,
   "id": "980f2f5d",
   "metadata": {},
   "outputs": [],
   "source": []
  },
  {
   "cell_type": "markdown",
   "id": "5b208be8",
   "metadata": {},
   "source": [
    "5-13. Your Ideas: At this point, you’re a more capable programmer than you were when you started this book. Now that you have a better sense of how real-world situations are modeled in programs, you might be thinking of some problems you could solve with your own programs. Record any new ideas you have about problems you might want to solve as your programming skills continue to improve. Consider games you might want to write, data sets you might want to explore, and web applications you’d like to create."
   ]
  },
  {
   "cell_type": "code",
   "execution_count": null,
   "id": "d8415454",
   "metadata": {},
   "outputs": [],
   "source": []
  }
 ],
 "metadata": {
  "kernelspec": {
   "display_name": "Python 3 (ipykernel)",
   "language": "python",
   "name": "python3"
  },
  "language_info": {
   "codemirror_mode": {
    "name": "ipython",
    "version": 3
   },
   "file_extension": ".py",
   "mimetype": "text/x-python",
   "name": "python",
   "nbconvert_exporter": "python",
   "pygments_lexer": "ipython3",
   "version": "3.9.12"
  }
 },
 "nbformat": 4,
 "nbformat_minor": 5
}
