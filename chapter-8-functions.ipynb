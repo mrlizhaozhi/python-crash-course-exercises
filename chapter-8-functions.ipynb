{
 "cells": [
  {
   "cell_type": "markdown",
   "id": "3629a085",
   "metadata": {},
   "source": [
    "# Chapter 8. Functions"
   ]
  },
  {
   "cell_type": "markdown",
   "id": "65d9f037",
   "metadata": {},
   "source": [
    "8-1. Message: Write a function called display_message() that prints one sentence telling everyone what you are learning about in this chapter. Call the function, and make sure the message displays correctly."
   ]
  },
  {
   "cell_type": "code",
   "execution_count": 1,
   "id": "710e1ee1",
   "metadata": {
    "scrolled": false
   },
   "outputs": [
    {
     "name": "stdout",
     "output_type": "stream",
     "text": [
      "I'm learning to write functions in Python.\n"
     ]
    }
   ],
   "source": [
    "def display_message():\n",
    "\tprint(\"I'm learning to write functions in Python.\")\n",
    "\n",
    "display_message();"
   ]
  },
  {
   "cell_type": "markdown",
   "id": "db748577",
   "metadata": {},
   "source": [
    "8-2. Favorite Book: Write a function called favorite_book() that accepts one parameter, title. The function should print a message, such as One of my favorite books is Alice in Wonderland. Call the function, making sure to include a book title as an argument in the function call."
   ]
  },
  {
   "cell_type": "code",
   "execution_count": 2,
   "id": "5317c114",
   "metadata": {
    "scrolled": true
   },
   "outputs": [
    {
     "name": "stdout",
     "output_type": "stream",
     "text": [
      "One of my favorite books is Alice in Wonderland.\n"
     ]
    }
   ],
   "source": [
    "def favorite_book(title):\n",
    "\tprint(f\"One of my favorite books is {title}.\")\n",
    "\n",
    "favorite_book('Alice in Wonderland')"
   ]
  },
  {
   "cell_type": "markdown",
   "id": "52d9a3c7",
   "metadata": {},
   "source": [
    "8-3. T-Shirt: Write a function called make_shirt() that accepts a size and the text of a message that should be printed on the shirt. The function should print a sentence summarizing the size of the shirt and the message printed on it. Call the function once using positional arguments to make a shirt. Call the function a second time using keyword arguments."
   ]
  },
  {
   "cell_type": "code",
   "execution_count": 3,
   "id": "1c9a8f82",
   "metadata": {},
   "outputs": [
    {
     "name": "stdout",
     "output_type": "stream",
     "text": [
      "The median sized shirt will have \"World's Best Daddy\" printed on it.\n",
      "The large sized shirt will have \"I love Guangzhou!\" printed on it.\n"
     ]
    }
   ],
   "source": [
    "def make_shirt(size, text):\n",
    "\tprint(f'The {size} sized shirt will have \"{text}\" printed on it.')\n",
    "\n",
    "# positional\n",
    "make_shirt(\"median\", \"World's Best Daddy\")\n",
    "# keyword\n",
    "make_shirt(text=\"I love Guangzhou!\", size=\"large\")"
   ]
  },
  {
   "cell_type": "markdown",
   "id": "69c65475",
   "metadata": {},
   "source": [
    "8-4. Large Shirts: Modify the make_shirt() function so that shirts are large by default with a message that reads I love Python. Make a large shirt and a medium shirt with the default message, and a shirt of any size with a different message."
   ]
  },
  {
   "cell_type": "code",
   "execution_count": 4,
   "id": "af83890a",
   "metadata": {
    "scrolled": true
   },
   "outputs": [
    {
     "name": "stdout",
     "output_type": "stream",
     "text": [
      "The large shirt has \"I love Python.\" printed on it.\n",
      "The medium shirt has \"I love Pythogn.\" printed on it.\n",
      "The small shirt has \"I Love Guangzhou!\" printed on it.\n"
     ]
    }
   ],
   "source": [
    "def make_shirt(text, size=\"large\"):\n",
    "\tprint(f'The {size} shirt has \"{text}\" printed on it.')\n",
    "\n",
    "make_shirt(\"I love Python.\")\n",
    "make_shirt(\"I love Pythogn.\", \"medium\")\n",
    "make_shirt(\"I Love Guangzhou!\", \"small\")"
   ]
  },
  {
   "cell_type": "markdown",
   "id": "d979f155",
   "metadata": {},
   "source": [
    "8-5. Cities: Write a function called describe_city() that accepts the name of a city and its country. The function should print a simple sentence, such as Reykjavik is in Iceland. Give the parameter for the country a default value. Call your function for three different cities, at least one of which is not in the default country."
   ]
  },
  {
   "cell_type": "code",
   "execution_count": 5,
   "id": "d12569ca",
   "metadata": {},
   "outputs": [
    {
     "name": "stdout",
     "output_type": "stream",
     "text": [
      "Guangzhou is in China.\n",
      "Guilin is in China.\n",
      "Milwaukee is in the United States.\n"
     ]
    }
   ],
   "source": [
    "def describe_city(city, country=\"China\"):\n",
    "\tprint(f\"{city} is in {country}.\")\n",
    "\n",
    "describe_city(\"Guangzhou\")\n",
    "describe_city(\"Guilin\")\n",
    "describe_city(\"Milwaukee\", \"the United States\")"
   ]
  },
  {
   "cell_type": "markdown",
   "id": "5df9acbe",
   "metadata": {},
   "source": [
    "8-6. City Names: Write a function called city_country() that takes in the name of a city and its country. The function should return a string formatted like this:\n",
    "\"Santiago, Chile\"\n",
    "Call your function with at least three city-country pairs, and print the values that are returned."
   ]
  },
  {
   "cell_type": "code",
   "execution_count": 6,
   "id": "6cb4be19",
   "metadata": {},
   "outputs": [
    {
     "name": "stdout",
     "output_type": "stream",
     "text": [
      "Guangzhou,China\n",
      "Jakarta,Indonesia\n",
      "Milwaukee,United States\n"
     ]
    }
   ],
   "source": [
    "def city_country(city, country):\n",
    "    return(f\"{city},{country}\".title())\n",
    "\n",
    "print(city_country(\"Guangzhou\", \"China\"))\n",
    "print(city_country(\"Jakarta\", \"Indonesia\"))\n",
    "print(city_country(\"Milwaukee\", \"United States\"))"
   ]
  },
  {
   "cell_type": "markdown",
   "id": "dc47cd16",
   "metadata": {},
   "source": [
    "8-7. Album: Write a function called make_album() that builds a dictionary describing a music album. The function should take in an artist name and an album title, and it should return a dictionary containing these two pieces of information. Use the function to make three dictionaries representing different albums. Print each return value to show that the dictionaries are storing the album information correctly.\n",
    "Use None to add an optional parameter to make_album() that allows you to store the number of songs on an album. If the calling line includes a value for the number of songs, add that value to the album’s dictionary. Make at least one new function call that includes the number of songs on an album."
   ]
  },
  {
   "cell_type": "code",
   "execution_count": 7,
   "id": "a2ebdb63",
   "metadata": {},
   "outputs": [
    {
     "name": "stdout",
     "output_type": "stream",
     "text": [
      "{'name': 'Rivera, Jason', 'occupation': 'Student', 'organisation': 'Marquette University'}\n",
      "{'name': 'Davey, Callan', 'occupation': 'Intern', 'organisation': 'Silicon Valley Bank'}\n",
      "{'name': 'Huang, Xuanbin', 'occupation': 'Singer'}\n"
     ]
    }
   ],
   "source": [
    "def build_friends(name, occupation, organisation=None):\n",
    "    friend = {'name' : name, 'occupation' : occupation, 'organisation' : organisation}\n",
    "    if organisation:\n",
    "        friend = {'name' : name, 'occupation' : occupation, 'organisation' : organisation}\n",
    "    else:\n",
    "        friend = {'name' : name, 'occupation' : occupation}\n",
    "    return friend\n",
    "\n",
    "friend_1 = build_friends(\"Rivera, Jason\", \"Student\", \"Marquette University\")\n",
    "friend_2 = build_friends(\"Davey, Callan\", \"Intern\", \"Silicon Valley Bank\")\n",
    "friend_3 = build_friends(\"Huang, Xuanbin\", \"Singer\")\n",
    "\n",
    "set_of_friends = [friend_1, friend_2, friend_3]\n",
    "for friend in set_of_friends:\n",
    "    print(friend)"
   ]
  },
  {
   "cell_type": "markdown",
   "id": "291e0015",
   "metadata": {},
   "source": [
    "8-8. User Albums: Start with your program from Exercise 8-7. Write a while loop that allows users to enter an album’s artist and title. Once you have that information, call make_album() with the user’s input and print the dictionary that’s created. Be sure to include a quit value in the while loop."
   ]
  },
  {
   "cell_type": "code",
   "execution_count": 8,
   "id": "f880252e",
   "metadata": {
    "scrolled": true
   },
   "outputs": [
    {
     "name": "stdout",
     "output_type": "stream",
     "text": [
      "Follow the prompts to input data. Type 'Quit' to end the program.\n",
      "Type name: Zhaozhi Li\n",
      "Type occupation: Business Analyst\n",
      "type organisation: HSBC\n",
      "{'name': 'Zhaozhi Li', 'occupation': 'Business Analyst', 'organisation': 'HSBC'}\n",
      "Follow the prompts to input data. Type 'Quit' to end the program.\n",
      "Type name: Jason Rivera\n",
      "Type occupation: Soldier\n",
      "type organisation: United States Army\n",
      "{'name': 'Jason Rivera', 'occupation': 'Soldier', 'organisation': 'United States Army'}\n",
      "Follow the prompts to input data. Type 'Quit' to end the program.\n",
      "Type name: Quit\n"
     ]
    }
   ],
   "source": [
    "def build_friends(name, occupation, organisation=None):\n",
    "    friend = {'name' : name, 'occupation' : occupation, 'organisation' : organisation}\n",
    "    if organisation:\n",
    "        friend = {'name' : name, 'occupation' : occupation, 'organisation' : organisation}\n",
    "    else:\n",
    "        friend = {'name' : name, 'occupation' : occupation}\n",
    "    return friend\n",
    "\n",
    "while True:\n",
    "    print(\"Follow the prompts to input data. Type 'Quit' to end the program.\")\n",
    "    name_input = input(\"Type name: \")\n",
    "    if name_input == \"Quit\":\n",
    "        break\n",
    "    occupation_input = input(\"Type occupation: \")\n",
    "    if occupation_input == \"Quit\":\n",
    "        break\n",
    "    organisation_input = input(\"type organisation: \")\n",
    "    if organisation_input == \"Quit\":\n",
    "        break\n",
    "        \n",
    "    friend = build_friends(name_input, occupation_input, organisation_input)\n",
    "    print(friend)\n",
    "        "
   ]
  },
  {
   "cell_type": "markdown",
   "id": "55181fd3",
   "metadata": {},
   "source": [
    "8-9. Messages: Make a list containing a series of short text messages. Pass the list to a function called show_messages(), which prints each text message."
   ]
  },
  {
   "cell_type": "code",
   "execution_count": 9,
   "id": "ca9e8512",
   "metadata": {},
   "outputs": [
    {
     "name": "stdout",
     "output_type": "stream",
     "text": [
      "Hello JR, what're you doing?\n",
      "Why're you not answering?!\n",
      "You're terrible for not responding.\n"
     ]
    }
   ],
   "source": [
    "def show_messages():\n",
    "    \n",
    "    text1 = \"Hello JR, what're you doing?\"\n",
    "    text2 = \"Why're you not answering?!\"\n",
    "    text3 = \"You're terrible for not responding.\"\n",
    "    \n",
    "    list_of_texts = [text1, text2, text3]\n",
    "    for text in list_of_texts:\n",
    "        print(text)\n",
    "show_messages()"
   ]
  },
  {
   "cell_type": "markdown",
   "id": "af4e28bd",
   "metadata": {},
   "source": [
    "8-10. Sending Messages: Start with a copy of your program from Exercise 8-9.Write a function called send_messages() that prints each text message and moves each message to a new list called sent_messages as it’s printed. After calling the function, print both of your lists to make sure the messages were moved correctly."
   ]
  },
  {
   "cell_type": "code",
   "execution_count": 10,
   "id": "15064d78",
   "metadata": {},
   "outputs": [
    {
     "name": "stdout",
     "output_type": "stream",
     "text": [
      "message 3\n",
      "message 2\n",
      "message 1\n",
      "The following messages have been sent:\n",
      "message 3\n",
      "message 2\n",
      "message 1\n",
      "[]\n",
      "['message 3', 'message 2', 'message 1']\n"
     ]
    }
   ],
   "source": [
    "def send_messages(messages, sent_messages):\n",
    "    while messages:\n",
    "        message = messages.pop()\n",
    "        sent.append(message)\n",
    "        print(message)\n",
    "        \n",
    "def sent_messages(sent_messages):\n",
    "    print('The following messages have been sent:')\n",
    "    for message in sent:\n",
    "        print(message)\n",
    "        \n",
    "messages = ['message 1', 'message 2', 'message 3']\n",
    "sent = []\n",
    "\n",
    "send_messages(messages, sent_messages)\n",
    "sent_messages(sent)\n",
    "\n",
    "print(messages)\n",
    "print(sent)"
   ]
  },
  {
   "cell_type": "markdown",
   "id": "fd2e2107",
   "metadata": {},
   "source": [
    "8-11. Archived Messages: Start with your work from Exercise 8-10. Call the function send_messages() with a copy of the list of messages. After calling the function, print both of your lists to show that the original list has retained its messages."
   ]
  },
  {
   "cell_type": "code",
   "execution_count": 11,
   "id": "08916055",
   "metadata": {},
   "outputs": [
    {
     "name": "stdout",
     "output_type": "stream",
     "text": [
      "message 3\n",
      "message 2\n",
      "message 1\n",
      "The following messages have been sent:\n",
      "message 3\n",
      "message 2\n",
      "message 1\n",
      "['message 1', 'message 2', 'message 3']\n",
      "['message 3', 'message 2', 'message 1']\n"
     ]
    }
   ],
   "source": [
    "def send_messages(messages, sent_messages):\n",
    "    while messages:\n",
    "        message = messages.pop()\n",
    "        sent.append(message)\n",
    "        print(message)\n",
    "        \n",
    "def sent_messages(sent_messages):\n",
    "    print('The following messages have been sent:')\n",
    "    for message in sent:\n",
    "        print(message)\n",
    "        \n",
    "messages = ['message 1', 'message 2', 'message 3']\n",
    "sent = []\n",
    "\n",
    "send_messages(messages[:], sent_messages)\n",
    "sent_messages(sent)\n",
    "\n",
    "print(messages)\n",
    "print(sent)"
   ]
  },
  {
   "cell_type": "markdown",
   "id": "bbcdddc8",
   "metadata": {},
   "source": [
    "8-12. Sandwiches: Write a function that accepts a list of items a person wants on a sandwich. The function should have one parameter that collects as many items as the function call provides, and it should print a summary of the sandwich that's being ordered. Call the function three times, using a different number of arguments each time."
   ]
  },
  {
   "cell_type": "code",
   "execution_count": 12,
   "id": "dd39a900",
   "metadata": {},
   "outputs": [
    {
     "name": "stdout",
     "output_type": "stream",
     "text": [
      "The sandwich you're ordering includes: \n",
      "-eggs\n",
      "-tomatos\n",
      "-beef\n",
      "The sandwich you're ordering includes: \n",
      "-eggs\n",
      "-vegitables\n",
      "-chicken\n",
      "The sandwich you're ordering includes: \n",
      "-eggs\n",
      "-mushroom\n",
      "-pork\n"
     ]
    }
   ],
   "source": [
    "def make_sandwiches(*toppings):\n",
    "    print(\"The sandwich you're ordering includes: \")\n",
    "    for topping in toppings:\n",
    "        print(f'-{topping}')\n",
    "        \n",
    "make_sandwiches('eggs', 'tomatos', 'beef')\n",
    "make_sandwiches('eggs', 'vegitables', 'chicken')\n",
    "make_sandwiches('eggs', 'mushroom', 'pork')"
   ]
  },
  {
   "cell_type": "markdown",
   "id": "0c858d99",
   "metadata": {},
   "source": [
    "8-13. User Profile: Start with a copy of user_profile.py from page 149. Build a profile of yourself by calling build_profile(), using your first and last names and three other key-value pairs that describe you."
   ]
  },
  {
   "cell_type": "code",
   "execution_count": 13,
   "id": "0a8c2ad9",
   "metadata": {},
   "outputs": [
    {
     "data": {
      "text/plain": [
       "{'citizenship': 'Chinese',\n",
       " 'field': 'Information Systems',\n",
       " 'first': 'Zhaozhi',\n",
       " 'last': 'Li'}"
      ]
     },
     "execution_count": 13,
     "metadata": {},
     "output_type": "execute_result"
    }
   ],
   "source": [
    "def student_profile(first_name, last_name, **info):\n",
    "    info['first'] = first_name\n",
    "    info['last'] = last_name\n",
    "    return info\n",
    "\n",
    "student_profile('Zhaozhi', 'Li', citizenship='Chinese', field='Information Systems')"
   ]
  },
  {
   "cell_type": "markdown",
   "id": "ca2dafe5",
   "metadata": {},
   "source": [
    "8-14. Cars: Write a function that stores information about a car in a dictionary. The function should always receive a manufacturer and a model name. It should then accept an arbitrary number of keyword arguments. Call the function with the required information and two other name-value pairs, such as a color or an optional feature. Your function should work for a call like this one:\n",
    "\n",
    "car = make_car('subaru', 'outback', color='blue', tow_package=True)\n",
    "\n",
    "Print the dictionary that’s returned to make sure all the information was stored correctly."
   ]
  },
  {
   "cell_type": "code",
   "execution_count": 14,
   "id": "23cf4c4b",
   "metadata": {},
   "outputs": [
    {
     "data": {
      "text/plain": [
       "{'color': 'blue', 'tow_package': True, 'maker': 'Subaru', 'model': 'Outback'}"
      ]
     },
     "execution_count": 14,
     "metadata": {},
     "output_type": "execute_result"
    }
   ],
   "source": [
    "def make_car(manufacturer, model, **info):\n",
    "    info['maker'] = manufacturer\n",
    "    info['model'] = model\n",
    "    return info\n",
    "\n",
    "make_car('Subaru', 'Outback', color='blue', tow_package=True)"
   ]
  },
  {
   "cell_type": "markdown",
   "id": "e1600eb2",
   "metadata": {},
   "source": [
    "8-15. Printing Models: Put the functions for the example printing_models.py in a separate file called printing_functions.py. Write an import statement at the top of printing_models.py, and modify the file to use the imported functions."
   ]
  },
  {
   "cell_type": "code",
   "execution_count": 15,
   "id": "6dd89446",
   "metadata": {},
   "outputs": [
    {
     "ename": "ModuleNotFoundError",
     "evalue": "No module named 'greet_friends'",
     "output_type": "error",
     "traceback": [
      "\u001b[1;31m---------------------------------------------------------------------------\u001b[0m",
      "\u001b[1;31mModuleNotFoundError\u001b[0m                       Traceback (most recent call last)",
      "\u001b[1;32mC:\\Users\\ZHAOZH~1\\AppData\\Local\\Temp/ipykernel_5196/2548055665.py\u001b[0m in \u001b[0;36m<module>\u001b[1;34m\u001b[0m\n\u001b[1;32m----> 1\u001b[1;33m \u001b[1;32mimport\u001b[0m \u001b[0mgreet_friends\u001b[0m\u001b[1;33m\u001b[0m\u001b[1;33m\u001b[0m\u001b[0m\n\u001b[0m\u001b[0;32m      2\u001b[0m \u001b[1;33m\u001b[0m\u001b[0m\n\u001b[0;32m      3\u001b[0m \u001b[0mgreet_friends\u001b[0m\u001b[1;33m.\u001b[0m\u001b[0mgreet_friends\u001b[0m\u001b[1;33m(\u001b[0m\u001b[1;34m'Huang Zihao'\u001b[0m\u001b[1;33m,\u001b[0m \u001b[1;34m'Jason Rivera'\u001b[0m\u001b[1;33m)\u001b[0m\u001b[1;33m\u001b[0m\u001b[1;33m\u001b[0m\u001b[0m\n",
      "\u001b[1;31mModuleNotFoundError\u001b[0m: No module named 'greet_friends'"
     ]
    }
   ],
   "source": [
    "import greet_friends\n",
    "\n",
    "greet_friends.greet_friends('Huang Zihao', 'Jason Rivera')"
   ]
  },
  {
   "cell_type": "markdown",
   "id": "a72806f7",
   "metadata": {},
   "source": [
    "8-16. Imports: Using a program you wrote that has one function in it, store that function in a separate file. Import the function into your main program file, and call the function using each of these approaches:\n",
    "- - -\n",
    "import module_name \\\n",
    "from module_name import function_name \\\n",
    "from module_name import function_name as fn \\\n",
    "import module_name as mn \\\n",
    "from module_name import *\n",
    "- - -"
   ]
  },
  {
   "cell_type": "code",
   "execution_count": null,
   "id": "a6bce413",
   "metadata": {},
   "outputs": [],
   "source": [
    "import greet_friends\n",
    "greet_friends.make_friends('Jason', 'Muyan')"
   ]
  },
  {
   "cell_type": "code",
   "execution_count": null,
   "id": "41d96164",
   "metadata": {},
   "outputs": [],
   "source": [
    "from greet_friends import make_friends\n",
    "make_friends(\"Zihao\")"
   ]
  },
  {
   "cell_type": "code",
   "execution_count": null,
   "id": "12babe5e",
   "metadata": {},
   "outputs": [],
   "source": [
    "from greet_friends import greet_friends as gf\n",
    "gf('Jason', 'Callan')"
   ]
  },
  {
   "cell_type": "code",
   "execution_count": null,
   "id": "736fd2a1",
   "metadata": {},
   "outputs": [],
   "source": [
    "import greet_friends as gf\n",
    "gf.make_friends('Jason')"
   ]
  },
  {
   "cell_type": "code",
   "execution_count": null,
   "id": "d5d905e3",
   "metadata": {},
   "outputs": [],
   "source": [
    "from greet_friends import make_friends, greet_friends\n",
    "make_friends('Jason', 'Callan')\n",
    "greet_friends('Jason', 'Callan')"
   ]
  },
  {
   "cell_type": "code",
   "execution_count": null,
   "id": "904073f5",
   "metadata": {},
   "outputs": [],
   "source": [
    "from greet_friends import *\n",
    "make_friends('Jason', 'Callan')\n",
    "greet_friends('Jason', 'Callan')"
   ]
  },
  {
   "cell_type": "markdown",
   "id": "23842e0b",
   "metadata": {},
   "source": [
    "8-17. Styling Functions: Choose any three programs you wrote for this chapter, \n",
    "and make sure they follow the styling guidelines described in this section."
   ]
  },
  {
   "cell_type": "code",
   "execution_count": null,
   "id": "502ccbae",
   "metadata": {},
   "outputs": [],
   "source": [
    "\"\"\"Best practices in Python programming:\n",
    "1. Function names should be descriptive, use lowercase letters and underscores (not dashes!!)\n",
    "2. Functions should have brief descriptions in the format of docstring (like this one) that explain what the functions do.\n",
    "   These descriptions should be right below the function definitions.\n",
    "3. Use NO spaces before and after parantheses (e.x. a=1 NOT a = 1).\n",
    "4. The official documentation reommends limiting the number of charaters to 79 and avoiding wrapping lines in code editors.\n",
    "   Press enter to write code in function arguments in definition.\n",
    "5. Functions should be separated with TWO blank lines in modules. These blanks help readers see clearly the start and end\n",
    "   of each function.\n",
    "6. Follow indentation rules. There should be only ONE indention created by the TAB key in general.\n",
    "7. All import statements should be written first.\n",
    "8. Document program files with comments at the beginning of the files.\n",
    "\"\"\""
   ]
  }
 ],
 "metadata": {
  "kernelspec": {
   "display_name": "Python 3 (ipykernel)",
   "language": "python",
   "name": "python3"
  },
  "language_info": {
   "codemirror_mode": {
    "name": "ipython",
    "version": 3
   },
   "file_extension": ".py",
   "mimetype": "text/x-python",
   "name": "python",
   "nbconvert_exporter": "python",
   "pygments_lexer": "ipython3",
   "version": "3.9.12"
  }
 },
 "nbformat": 4,
 "nbformat_minor": 5
}
