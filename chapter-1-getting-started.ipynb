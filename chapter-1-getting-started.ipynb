{
 "cells": [
  {
   "cell_type": "markdown",
   "id": "012c31e9",
   "metadata": {},
   "source": [
    "# Chapter 1. Getting Started"
   ]
  },
  {
   "cell_type": "markdown",
   "id": "5a7cefdc",
   "metadata": {},
   "source": [
    "1-1. python.org: Explore the Python home page (https://python.org/) to find topics that interest you. As you become familiar with Python, different parts of the site will be more useful to you."
   ]
  },
  {
   "cell_type": "code",
   "execution_count": null,
   "id": "6b0fe0a2",
   "metadata": {},
   "outputs": [],
   "source": []
  },
  {
   "cell_type": "markdown",
   "id": "4f2e8809",
   "metadata": {},
   "source": [
    "1-2. Hello World Typos: Open the hello_world.py file you just created. Make a typo somewhere in the line and run the program again. Can you make a typo that generates an error? Can you make sense of the error message? Can you make a typo that doesn’t generate an error? Why do you think it didn’t make an error?"
   ]
  },
  {
   "cell_type": "code",
   "execution_count": null,
   "id": "207baf24",
   "metadata": {},
   "outputs": [],
   "source": []
  },
  {
   "cell_type": "markdown",
   "id": "a62478a2",
   "metadata": {},
   "source": [
    "1-3. Infinite Skills: If you had infinite programming skills, what would you build? You’re about to learn how to program. If you have an end goal in mind, you’ll have an immediate use for your new skills; now is a great time to draft descrip\u0002tions of what you want to create. It’s a good habit to keep an “ideas” notebook that you can refer to whenever you want to start a new project. Take a few minutes now to describe three programs you want to create."
   ]
  },
  {
   "cell_type": "code",
   "execution_count": null,
   "id": "2b602f0e",
   "metadata": {},
   "outputs": [],
   "source": []
  }
 ],
 "metadata": {
  "kernelspec": {
   "display_name": "Python 3 (ipykernel)",
   "language": "python",
   "name": "python3"
  },
  "language_info": {
   "codemirror_mode": {
    "name": "ipython",
    "version": 3
   },
   "file_extension": ".py",
   "mimetype": "text/x-python",
   "name": "python",
   "nbconvert_exporter": "python",
   "pygments_lexer": "ipython3",
   "version": "3.9.12"
  }
 },
 "nbformat": 4,
 "nbformat_minor": 5
}
