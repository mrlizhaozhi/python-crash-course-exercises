{
 "cells": [
  {
   "cell_type": "markdown",
   "id": "25ebdf06",
   "metadata": {},
   "source": [
    "# Chapter 6. Dictionaries"
   ]
  },
  {
   "cell_type": "markdown",
   "id": "508e6a43",
   "metadata": {},
   "source": [
    "6-1. Person: Use a dictionary to store information about a person you know.Store their first name, last name, age, and the city in which they live. You should have keys such as first_name, last_name, age, and city. Print each piece of information stored in your dictionary."
   ]
  },
  {
   "cell_type": "code",
   "execution_count": 1,
   "id": "4804e9ee",
   "metadata": {},
   "outputs": [
    {
     "name": "stdout",
     "output_type": "stream",
     "text": [
      "{'first_name': 'Jason', 'last_name': 'Rivera', 'age': 21}\n",
      "21\n",
      "Jason Rivera is from Chicago.\n",
      "{'first_name': 'Jason', 'last_name': 'Rivera', 'age': 21, 'city': 'Chicago'}\n"
     ]
    }
   ],
   "source": [
    "jason_rivera = {\n",
    "\t'first_name' : 'Jason',\n",
    "\t'last_name' : 'Rivera',\n",
    "\t'age' : 21,\n",
    "};\n",
    "\n",
    "print(jason_rivera);\n",
    "print(jason_rivera.get(\"age\", \"Age not exists.\"));\n",
    "\n",
    "jason_rivera['city'] = 'Chicago';\n",
    "print(f'Jason Rivera is from {jason_rivera.get(\"city\", \"somewhere in the Midwest\")}.');\n",
    "\n",
    "print(jason_rivera);"
   ]
  },
  {
   "cell_type": "markdown",
   "id": "7e819243",
   "metadata": {},
   "source": [
    "6-2. Favorite Numbers: Use a dictionary to store people’s favorite numbers.Think of five names, and use them as keys in your dictionary. Think of a favorite number for each person, and store each as a value in your dictionary. Print each person’s name and their favorite number. For even more fun, poll a few friends and get some actual data for your program."
   ]
  },
  {
   "cell_type": "code",
   "execution_count": 2,
   "id": "9c9798fe",
   "metadata": {},
   "outputs": [
    {
     "name": "stdout",
     "output_type": "stream",
     "text": [
      "Callan's favorite number is 1000.\n"
     ]
    }
   ],
   "source": [
    "favorite_numbers = {\n",
    "\t'Zhaozhi' : 100,\n",
    "\t'Jason' : 10,\n",
    "\t'Callan' : 1000,\n",
    "\t'Christine' : 0,\n",
    "\t'Joseph' : 50,\n",
    "};\n",
    "\n",
    "print(f\"Callan's favorite number is {favorite_numbers['Callan']}.\");"
   ]
  },
  {
   "cell_type": "markdown",
   "id": "bd3fb400",
   "metadata": {},
   "source": [
    "6-3. Glossary: A Python dictionary can be used to model an actual dictionary.However, to avoid confusion, let’s call it a glossary.\n",
    "• Think of five programming words you’ve learned about in the previous chapters. Use these words as the keys in your glossary, and store their meanings as values.\n",
    "• Print each word and its meaning as neatly formatted output. You might print the word followed by a colon and then its meaning, or print the word on one line and then print its meaning indented on a second line. Use the newline character (\\n) to insert a blank line between each word-meaning pair in your output."
   ]
  },
  {
   "cell_type": "code",
   "execution_count": 3,
   "id": "38f0a503",
   "metadata": {},
   "outputs": [
    {
     "name": "stdout",
     "output_type": "stream",
     "text": [
      "Lists: \n",
      "\t Lists can store an array of values.\n",
      "Variables: \n",
      "\t A variable is a label of a value.\n",
      "Indices: \n",
      "\t You can index lists.\n",
      "Values: \n",
      "\t Values can be strings or numbers.\n",
      "Boolens: \n",
      "\t Booleen characters include True and False.\n"
     ]
    }
   ],
   "source": [
    "glossary = {\n",
    "\t'lists' : 'Lists can store an array of values.',\n",
    "\t'variable' : 'A variable is a label of a value.',\n",
    "\t'index' : 'You can index lists.',\n",
    "\t'value' : 'Values can be strings or numbers.',\n",
    "\t'booleen' : 'Booleen characters include True and False.',\n",
    "};\n",
    "\n",
    "print(f\"Lists: \\n\\t {glossary['lists']}\");\n",
    "print(f\"Variables: \\n\\t {glossary['variable']}\");\n",
    "print(f\"Indices: \\n\\t {glossary['index']}\");\n",
    "print(f\"Values: \\n\\t {glossary['value']}\");\n",
    "print(f\"Boolens: \\n\\t {glossary['booleen']}\");"
   ]
  },
  {
   "cell_type": "markdown",
   "id": "f0ccffdc",
   "metadata": {},
   "source": [
    "6-4. Glossary 2: Now that you know how to loop through a dictionary, clean up the code from Exercise 6-3 (page 99) by replacing your series of print()calls with a loop that runs through the dictionary’s keys and values. When you’re sure that your loop works, add five more Python terms to your glossary.When you run your program again, these new words and meanings should automatically be included in the output."
   ]
  },
  {
   "cell_type": "code",
   "execution_count": 4,
   "id": "6010cb9f",
   "metadata": {},
   "outputs": [
    {
     "name": "stdout",
     "output_type": "stream",
     "text": [
      "List: \n",
      "\t Lists can store an array of values.\n",
      "Variable: \n",
      "\t A variable is a label of a value.\n",
      "Index: \n",
      "\t You can index lists.\n",
      "Value: \n",
      "\t Values can be strings or numbers.\n",
      "Booleen: \n",
      "\t Booleen characters include True and False.\n",
      "Function: \n",
      "\t Functions are named blocks of code designed to do specific jobs.\n",
      "Dictionary: \n",
      "\t Disctionaries allow you to connect pieces of related information.\n"
     ]
    }
   ],
   "source": [
    "glossary = {\n",
    "\t'list' : 'Lists can store an array of values.',\n",
    "\t'variable' : 'A variable is a label of a value.',\n",
    "\t'index' : 'You can index lists.',\n",
    "\t'value' : 'Values can be strings or numbers.',\n",
    "\t'booleen' : 'Booleen characters include True and False.',\n",
    "\t'function' : 'Functions are named blocks of code designed to do specific jobs.',\n",
    "\t'dictionary' : 'Disctionaries allow you to connect pieces of related information.',\n",
    "};\n",
    "\n",
    "for vocab, definitions in glossary.items():\n",
    "\tprint(f'{vocab.title()}: \\n\\t {definitions}')"
   ]
  },
  {
   "cell_type": "markdown",
   "id": "debce5ce",
   "metadata": {},
   "source": [
    "6-5. Rivers: Make a dictionary containing three major rivers and the country each river runs through. One key-value pair might be 'nile': 'egypt'.\n",
    "\n",
    "• Use a loop to print a sentence about each river, such as The Nile runs through Egypt.\n",
    "• Use a loop to print the name of each river included in the dictionary.\n",
    "• Use a loop to print the name of each country included in the dictionary."
   ]
  },
  {
   "cell_type": "code",
   "execution_count": 5,
   "id": "3386b4f9",
   "metadata": {},
   "outputs": [
    {
     "name": "stdout",
     "output_type": "stream",
     "text": [
      "Nile runs through Egypt.\n",
      "Yangtze runs through China.\n",
      "Amazon runs through the United States.\n",
      "#######################################\n",
      "nile\n",
      "yangtze\n",
      "amazon\n",
      "#######################################\n",
      "egypt\n",
      "china\n",
      "United States\n"
     ]
    }
   ],
   "source": [
    "rivers = {\n",
    "\t'nile' : 'egypt',\n",
    "\t'yangtze' : 'china',\n",
    "\t'amazon' : 'United States',\n",
    "}\n",
    "\n",
    "for river, country in rivers.items():\n",
    "\tif('United' in country):\n",
    "\t\tprint(f'{river.title()} runs through the {country.title()}.');\n",
    "\telse:\n",
    "\t\tprint(f'{river.title()} runs through {country.title()}.');\n",
    "\n",
    "print(\"#######################################\")\n",
    "for river in rivers.keys():\n",
    "\tprint(river)\n",
    "\n",
    "print(\"#######################################\")\n",
    "for country in rivers.values():\n",
    "\tprint(country)"
   ]
  },
  {
   "cell_type": "markdown",
   "id": "53162b67",
   "metadata": {},
   "source": [
    "6-6. Polling: Use the code in favorite_languages.py (page 97).\n",
    "• Make a list of people who should take the favorite languages poll. Include some names that are already in the dictionary and some that are not.\n",
    "• Loop through the list of people who should take the poll. If they have already taken the poll, print a message thanking them for responding.\n",
    "If they have not yet taken the poll, print a message inviting them to take the poll."
   ]
  },
  {
   "cell_type": "code",
   "execution_count": 6,
   "id": "727de58e",
   "metadata": {},
   "outputs": [
    {
     "name": "stdout",
     "output_type": "stream",
     "text": [
      "Jen, thank you for taking the poll.\n",
      "Jason, you're invited to take the poll.\n",
      "Callan, you're invited to take the poll.\n"
     ]
    }
   ],
   "source": [
    "favorite_languages = {\n",
    "\t'jen': 'python',\n",
    "\t'sarah': 'c',\n",
    "\t'edward': 'ruby',\n",
    "\t'phil': 'python',\n",
    "}\n",
    "\n",
    "people = ['jen', 'jason', 'callan']\n",
    "\n",
    "for name in people:\n",
    "\tif (name in favorite_languages.keys()):\n",
    "\t\tprint(f\"{name.title()}, thank you for taking the poll.\")\n",
    "\telse:\n",
    "\t\tprint(f\"{name.title()}, you're invited to take the poll.\")"
   ]
  },
  {
   "cell_type": "markdown",
   "id": "3a3e9c19",
   "metadata": {},
   "source": [
    "6-7. People: Start with the program you wrote for Exercise 6-1 (page 99).Make two new dictionaries representing different people, and store all three dictionaries in a list called people. Loop through your list of people. As you loop through the list, print everything you know about each person."
   ]
  },
  {
   "cell_type": "code",
   "execution_count": 7,
   "id": "1a8cba29",
   "metadata": {},
   "outputs": [
    {
     "name": "stdout",
     "output_type": "stream",
     "text": [
      "Jason Rivera is 21 years old.\n",
      "Callan Davey is 20 years old.\n",
      "Zhaozhi Li is 21 years old.\n"
     ]
    }
   ],
   "source": [
    "jason_rivera = {\n",
    "\t'first_name' : 'Jason',\n",
    "\t'last_name' : 'Rivera',\n",
    "\t'age' : 21,\n",
    "};\n",
    "\n",
    "callan_davey = {\n",
    "\t'first_name' : 'Callan',\n",
    "\t'last_name' : 'Davey',\n",
    "\t'age' : 20,\n",
    "};\n",
    "\n",
    "zhaozhi_li = {\n",
    "\t'first_name' : 'Zhaozhi',\n",
    "\t'last_name' : 'Li',\n",
    "\t'age' : 21,\n",
    "}\n",
    "\n",
    "people = [jason_rivera, callan_davey, zhaozhi_li]\n",
    "\n",
    "for person in people:\n",
    "\tprint(f\"{person['first_name']} {person['last_name']} is {person['age']} years old.\")\n"
   ]
  },
  {
   "cell_type": "markdown",
   "id": "1718e350",
   "metadata": {},
   "source": [
    "6-8. Pets: Make several dictionaries, where each dictionary represents a different pet. In each dictionary, include the kind of animal and the owner’s name.Store these dictionaries in a list called pets. Next, loop through your list and as you do, print everything you know about each pet."
   ]
  },
  {
   "cell_type": "code",
   "execution_count": 8,
   "id": "272fa910",
   "metadata": {},
   "outputs": [
    {
     "name": "stdout",
     "output_type": "stream",
     "text": [
      "Jason owns a dog.\n",
      "Krystal owns a cat.\n"
     ]
    }
   ],
   "source": [
    "pet_1 = {\n",
    "\t'kind' : 'dog',\n",
    "\t'owner' : 'jason',\n",
    "}\n",
    "\n",
    "pet_2 = {\n",
    "\t'kind' : 'cat',\n",
    "\t'owner' : 'krystal',\n",
    "}\n",
    "\n",
    "pets = [pet_1, pet_2]\n",
    "\n",
    "for pet in pets:\n",
    "\tprint(f\"{pet['owner'].title()} owns a {pet['kind']}.\")"
   ]
  },
  {
   "cell_type": "markdown",
   "id": "2f327b4b",
   "metadata": {},
   "source": [
    "6-9. Favorite Places: Make a dictionary called favorite_places. Think of three names to use as keys in the dictionary, and store one to three favorite places for each person. To make this exercise a bit more interesting, ask some friends to name a few of their favorite places. Loop through the dictionary, and print each person’s name and their favorite places."
   ]
  },
  {
   "cell_type": "code",
   "execution_count": 9,
   "id": "613a55ab",
   "metadata": {},
   "outputs": [
    {
     "name": "stdout",
     "output_type": "stream",
     "text": [
      "Jason loves chicago.\n",
      "Jason loves san diego.\n",
      "Jason loves miami.\n",
      "Zhaozhi loves guangzhou.\n",
      "Zhaozhi loves hong kong.\n",
      "Zhaozhi loves singapore.\n",
      "Zhaozhi loves san francisco.\n",
      "Zhaozhi loves los angeles.\n",
      "Otto loves bloomington.\n",
      "Otto loves milwaukee.\n",
      "Otto loves tokyo.\n",
      "Otto loves los angeles.\n"
     ]
    },
    {
     "data": {
      "text/plain": [
       "' review index slices & call '"
      ]
     },
     "execution_count": 9,
     "metadata": {},
     "output_type": "execute_result"
    }
   ],
   "source": [
    "favourite_places = {\n",
    "\t'jason' : ['chicago', 'san diego', 'miami'],\n",
    "\t'zhaozhi' : ['guangzhou', 'hong kong', 'singapore', 'san francisco', 'los angeles'],\n",
    "\t'otto' : ['bloomington', 'milwaukee', 'tokyo', 'los angeles'],\n",
    "}\n",
    "\n",
    "for name, places in favourite_places.items():\n",
    "\tfor place in places:\n",
    "\t\tprint(f\"{name.title()} loves {place}.\")\n",
    "\n",
    "\n",
    "''' review index slices & call '''\n"
   ]
  },
  {
   "cell_type": "markdown",
   "id": "e73a65de",
   "metadata": {},
   "source": [
    "6-10. Favorite Numbers: Modify your program from Exercise 6-2 (page 99) so each person can have more than one favorite number. Then print each person's name along with their favorite numbers."
   ]
  },
  {
   "cell_type": "code",
   "execution_count": 10,
   "id": "d2b227c7",
   "metadata": {},
   "outputs": [
    {
     "name": "stdout",
     "output_type": "stream",
     "text": [
      "Zhaozhi's favourite numbers are [100, 50].\n",
      "Jason's favourite numbers are [10, 5].\n",
      "Callan's favourite numbers are [1000].\n"
     ]
    }
   ],
   "source": [
    "favorite_numbers = {\n",
    "\t'Zhaozhi' : [100, 50],\n",
    "\t'Jason' : [10, 5],\n",
    "\t'Callan' : [1000],\n",
    "};\n",
    "\n",
    "for name, numbers in favorite_numbers.items():\n",
    "\tprint(f\"{name}'s favourite numbers are {numbers}.\")"
   ]
  },
  {
   "cell_type": "markdown",
   "id": "5b49987c",
   "metadata": {},
   "source": [
    "6-11. Cities: Make a dictionary called cities. Use the names of three cities as keys in your dictionary. Create a dictionary of information about each city and include the country that the city is in, its approximate population, and one fact about that city. The keys for each city’s dictionary should be something like country, population, and fact. Print the name of each city and all of the information you have stored about it."
   ]
  },
  {
   "cell_type": "code",
   "execution_count": 11,
   "id": "b5e5a3aa",
   "metadata": {},
   "outputs": [
    {
     "name": "stdout",
     "output_type": "stream",
     "text": [
      "The city of Guangzhou belongs to China, which is big in size.\n",
      "The city of Milwaukee belongs to the United States, which is medium in size.\n",
      "The city of Hong Kong belongs to China, which is big in size.\n"
     ]
    },
    {
     "data": {
      "text/plain": [
       "'review looping through dictionaries'"
      ]
     },
     "execution_count": 11,
     "metadata": {},
     "output_type": "execute_result"
    }
   ],
   "source": [
    "cities = {\n",
    "\t'guangzhou' : {\n",
    "\t\t'country' : 'china', \n",
    "\t\t'size' : 'big',\n",
    "\t},\n",
    "\n",
    "\t'milwaukee' : {\n",
    "\t\t'country' : 'United States', \n",
    "\t\t'size' : 'medium',\n",
    "\t},\n",
    "\n",
    "\t'hong kong' : {\n",
    "\t\t'country' : 'china',\n",
    "\t\t'size' : 'big',\n",
    "\t},\n",
    "}\n",
    "\n",
    "for city, info in cities.items():\n",
    "\tif(\"United\" in info['country']):\n",
    "\t\tprint(f\"The city of {city.title()} belongs to the {info['country'].title()}, which is {info['size']} in size.\")\n",
    "\telse:\n",
    "\t\tprint(f\"The city of {city.title()} belongs to {info['country'].title()}, which is {info['size']} in size.\")\n",
    "'''review looping through dictionaries'''\n"
   ]
  },
  {
   "cell_type": "markdown",
   "id": "74724e14",
   "metadata": {},
   "source": [
    "6-12. Extensions: We’re now working with examples that are complex enough that they can be extended in any number of ways. Use one of the example programs from this chapter, and extend it by adding new keys and values, changing the context of the program or improving the formatting of the output."
   ]
  },
  {
   "cell_type": "code",
   "execution_count": null,
   "id": "451f8283",
   "metadata": {},
   "outputs": [],
   "source": []
  }
 ],
 "metadata": {
  "kernelspec": {
   "display_name": "Python 3 (ipykernel)",
   "language": "python",
   "name": "python3"
  },
  "language_info": {
   "codemirror_mode": {
    "name": "ipython",
    "version": 3
   },
   "file_extension": ".py",
   "mimetype": "text/x-python",
   "name": "python",
   "nbconvert_exporter": "python",
   "pygments_lexer": "ipython3",
   "version": "3.8.3"
  }
 },
 "nbformat": 4,
 "nbformat_minor": 5
}
