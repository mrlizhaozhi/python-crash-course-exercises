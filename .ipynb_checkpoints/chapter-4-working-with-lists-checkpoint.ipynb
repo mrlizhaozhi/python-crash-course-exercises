{
 "cells": [
  {
   "cell_type": "markdown",
   "id": "6f29b665",
   "metadata": {},
   "source": [
    "# Chapter 4. Working with Lists"
   ]
  },
  {
   "cell_type": "markdown",
   "id": "257cbe00",
   "metadata": {},
   "source": [
    "4-1. Pizzas: Think of at least three kinds of your favorite pizza. Store these pizza names in a list, and then use a for loop to print the name of each pizza.\n",
    "• Modify your for loop to print a sentence using the name of the pizza instead of printing just the name of the pizza. For each pizza you should have one line of output containing a simple statement like I like pepperoni pizza.\n",
    "• Add a line at the end of your program, outside the for loop, that states how much you like pizza. The output should consist of three or more lines about the kinds of pizza you like and then an additional sentence, such as\n",
    "I really love pizza!"
   ]
  },
  {
   "cell_type": "code",
   "execution_count": 1,
   "id": "f49001df",
   "metadata": {},
   "outputs": [
    {
     "name": "stdout",
     "output_type": "stream",
     "text": [
      "I enjoy sketching in my spare time.\n",
      "I enjoy blogging in my spare time.\n",
      "I enjoy programming in my spare time.\n",
      "I have many hobbies!\n"
     ]
    }
   ],
   "source": [
    "hobbies = [\"sketching\", \"blogging\", \"programming\"];\n",
    "for hobby in hobbies:\n",
    "\tprint(f'I enjoy {hobby} in my spare time.');\n",
    "\n",
    "print(\"I have many hobbies!\");"
   ]
  },
  {
   "cell_type": "markdown",
   "id": "364136d2",
   "metadata": {},
   "source": [
    "4-2. Animals: Think of at least three different animals that have a common characteristic.Store the names of these animals in a list, and then use a for loop to print out the name of each animal.\n",
    "• Modify your program to print a statement about each animal, such as A dog would make a great pet.\n",
    "• Add a line at the end of your program stating what these animals have in common. You could print a sentence such as Any of these animals would make a great pet!"
   ]
  },
  {
   "cell_type": "code",
   "execution_count": 2,
   "id": "4bf8f5c7",
   "metadata": {},
   "outputs": [
    {
     "name": "stdout",
     "output_type": "stream",
     "text": [
      "I would love to have a cat as my pet!\n",
      "I would love to have a dog as my pet!\n",
      "I would love to have a donkey as my pet!\n",
      "All these animals have four legs.\n"
     ]
    }
   ],
   "source": [
    "animals = [\"cat\", \"dog\", \"donkey\"];\n",
    "for animal in animals:\n",
    "\tprint(f'I would love to have a {animal} as my pet!');\n",
    "\n",
    "print(\"All these animals have four legs.\")"
   ]
  },
  {
   "cell_type": "markdown",
   "id": "3a871ec1",
   "metadata": {},
   "source": [
    "4-3. Counting to Twenty: Use a for loop to print the numbers from 1 to 20,inclusive."
   ]
  },
  {
   "cell_type": "code",
   "execution_count": 3,
   "id": "6b5d31b8",
   "metadata": {},
   "outputs": [
    {
     "name": "stdout",
     "output_type": "stream",
     "text": [
      "[1, 2, 3, 4, 5, 6, 7, 8, 9, 10, 11, 12, 13, 14, 15, 16, 17, 18, 19, 20]\n"
     ]
    }
   ],
   "source": [
    "count = [value for value in range(1, 21)];\n",
    "print(count);"
   ]
  },
  {
   "cell_type": "markdown",
   "id": "e3302ee5",
   "metadata": {},
   "source": [
    "4-4. One Million: Make a list of the numbers from one to one million, and then use a for loop to print the numbers. (If the output is taking too long, stop it by pressing ctrl-C or by closing the output window.)"
   ]
  },
  {
   "cell_type": "code",
   "execution_count": 4,
   "id": "55bfc899",
   "metadata": {},
   "outputs": [
    {
     "name": "stderr",
     "output_type": "stream",
     "text": [
      "IOPub data rate exceeded.\n",
      "The notebook server will temporarily stop sending output\n",
      "to the client in order to avoid crashing it.\n",
      "To change this limit, set the config variable\n",
      "`--NotebookApp.iopub_data_rate_limit`.\n",
      "\n",
      "Current values:\n",
      "NotebookApp.iopub_data_rate_limit=1000000.0 (bytes/sec)\n",
      "NotebookApp.rate_limit_window=3.0 (secs)\n",
      "\n"
     ]
    }
   ],
   "source": [
    "one_million = [value for value in range(1, 1_000_001)];\n",
    "print(one_million);"
   ]
  },
  {
   "cell_type": "markdown",
   "id": "bf1c4610",
   "metadata": {},
   "source": [
    "4-5. Summing a Million: Make a list of the numbers from one to one million,and then use min() and max() to make sure your list actually starts at one and ends at one million. Also, use the sum() function to see how quickly Python can add a million numbers."
   ]
  },
  {
   "cell_type": "code",
   "execution_count": 5,
   "id": "bb925dac",
   "metadata": {},
   "outputs": [
    {
     "name": "stdout",
     "output_type": "stream",
     "text": [
      "1\n",
      "1000000\n",
      "500000500000\n"
     ]
    }
   ],
   "source": [
    "one_million = [value for value in range(1, 1_000_001)];\n",
    "print(min(one_million));\n",
    "print(max(one_million));\n",
    "print(sum(one_million));"
   ]
  },
  {
   "cell_type": "markdown",
   "id": "9a3c9317",
   "metadata": {},
   "source": [
    "4-6. Odd Numbers: Use the third argument of the range() function to make a list of the odd numbers from 1 to 20. Use a for loop to print each number."
   ]
  },
  {
   "cell_type": "code",
   "execution_count": 6,
   "id": "184e0367",
   "metadata": {},
   "outputs": [
    {
     "name": "stdout",
     "output_type": "stream",
     "text": [
      "[1, 3, 5, 7, 9, 11, 13, 15, 17, 19]\n"
     ]
    }
   ],
   "source": [
    "odd_numbers = [value for value in range(1, 21, 2)];\n",
    "print(odd_numbers);"
   ]
  },
  {
   "cell_type": "markdown",
   "id": "dcff631c",
   "metadata": {},
   "source": [
    "4-7. Threes: Make a list of the multiples of 3 from 3 to 30. Use a for loop to print the numbers in your list."
   ]
  },
  {
   "cell_type": "code",
   "execution_count": 7,
   "id": "ea839791",
   "metadata": {},
   "outputs": [
    {
     "name": "stdout",
     "output_type": "stream",
     "text": [
      "[3, 6, 9, 12, 15, 18, 21, 24, 27, 30]\n"
     ]
    }
   ],
   "source": [
    "threes = [value for value in range(3, 31, 3)];\n",
    "print(threes);"
   ]
  },
  {
   "cell_type": "markdown",
   "id": "7373368a",
   "metadata": {},
   "source": [
    "4-8. Cubes: A number raised to the third power is called a cube. For example,the cube of 2 is written as 2 ** 3 in Python. Make a list of the first 10 cubes (that is, the cube of each integer from 1 through 10), and use a for loop to print out the value of each cube."
   ]
  },
  {
   "cell_type": "code",
   "execution_count": 8,
   "id": "35b2fe2a",
   "metadata": {},
   "outputs": [
    {
     "name": "stdout",
     "output_type": "stream",
     "text": [
      "[1, 8, 27, 64, 125, 216, 343, 512, 729, 1000]\n"
     ]
    }
   ],
   "source": [
    "cubes = []\n",
    "for value in range(1, 11):\n",
    "\tcube = value ** 3;\n",
    "\tcubes.append(cube);\n",
    "\n",
    "print(cubes);"
   ]
  },
  {
   "cell_type": "markdown",
   "id": "d4806294",
   "metadata": {},
   "source": [
    "4-9. Cube Comprehension: Use a list comprehension to generate a list of the first 10 cubes."
   ]
  },
  {
   "cell_type": "code",
   "execution_count": 9,
   "id": "d666f103",
   "metadata": {},
   "outputs": [
    {
     "name": "stdout",
     "output_type": "stream",
     "text": [
      "[1, 8, 27, 64, 125, 216, 343, 512, 729, 1000]\n"
     ]
    }
   ],
   "source": [
    "cubes = [value**3 for value in range(1, 11)];\n",
    "print(cubes);"
   ]
  },
  {
   "cell_type": "markdown",
   "id": "7d7d2dfc",
   "metadata": {},
   "source": [
    "4-10. Slices: Using one of the programs you wrote in this chapter, add several lines to the end of the program that do the following:\n",
    "• Print the message The first three items in the list are:. Then use a slice to print the first three items from that program’s list.\n",
    "• Print the message Three items from the middle of the list are:. Use a slice to print three items from the middle of the list.\n",
    "• Print the message The last three items in the list are:. Use a slice to print the last three items in the list."
   ]
  },
  {
   "cell_type": "code",
   "execution_count": 10,
   "id": "f88d08cc",
   "metadata": {},
   "outputs": [
    {
     "name": "stdout",
     "output_type": "stream",
     "text": [
      "The first three items in the list are: ['blue', 'green', 'yellow'].\n",
      "Three items from the middle of the list are: ['yellow', 'red', 'black'].\n",
      "The last three items in the list are: ['black', 'white', 'pink'].\n"
     ]
    }
   ],
   "source": [
    "colors = [\"blue\", \"green\", \"yellow\", \"red\", \"black\", \"white\", \"pink\"];\n",
    "print(f'The first three items in the list are: {colors[:3]}.');\n",
    "\n",
    "print(f'Three items from the middle of the list are: {colors[2:5]}.');\n",
    "\n",
    "print(f'The last three items in the list are: {colors[-3:]}.');"
   ]
  },
  {
   "cell_type": "markdown",
   "id": "0c83c8f5",
   "metadata": {},
   "source": [
    "4-11. My Pizzas, Your Pizzas: Start with your program from Exercise 4-1 (page 56). Make a copy of the list of pizzas, and call it friend_pizzas.\n",
    "\n",
    "Then, do the following:\n",
    "\n",
    "• Add a new pizza to the original list.\n",
    "• Add a different pizza to the list friend_pizzas.\n",
    "• Prove that you have two separate lists. Print the message My favorite pizzas are:, and then use a for loop to print the first list. Print the message My friend’s favorite pizzas are:, and then use a for loop to print the second list. Make sure each new pizza is stored in the appropriate list."
   ]
  },
  {
   "cell_type": "code",
   "execution_count": 11,
   "id": "fce7933f",
   "metadata": {},
   "outputs": [
    {
     "name": "stdout",
     "output_type": "stream",
     "text": [
      "My hobbies include: ['sketching', 'blogging', 'programming', 'reading', 'swimming'].\n",
      "My friend’s hobbies are: ['sketching', 'blogging', 'programming', 'reading', 'swimming'].\n",
      "\n",
      "My friend's hobbies include the following:\n",
      "sketching\n",
      "blogging\n",
      "programming\n",
      "reading\n",
      "swimming\n"
     ]
    }
   ],
   "source": [
    "my_hobbies = [\"sketching\", \"blogging\", \"programming\"];\n",
    "friend_hobbies = my_hobbies;\n",
    "\n",
    "my_hobbies.append(\"reading\");\n",
    "friend_hobbies.append(\"swimming\");\n",
    "\n",
    "print(f'My hobbies include: {my_hobbies}.');\n",
    "print(f\"My friend’s hobbies are: {friend_hobbies}.\");\n",
    "\n",
    "print(\"\\nMy friend's hobbies include the following:\");\n",
    "for hobby in friend_hobbies:\n",
    "\tprint(hobby);"
   ]
  },
  {
   "cell_type": "markdown",
   "id": "71c4f0d5",
   "metadata": {},
   "source": [
    "4-12. More Loops: All versions of foods.py in this section have avoided using for loops when printing to save space. Choose a version of foods.py, and write two for loops to print each list of foods."
   ]
  },
  {
   "cell_type": "code",
   "execution_count": 12,
   "id": "86c16d52",
   "metadata": {},
   "outputs": [
    {
     "name": "stdout",
     "output_type": "stream",
     "text": [
      "I want to visit Milwaukee.\n",
      "I want to visit Guangzhou.\n",
      "I want to visit Chicago.\n",
      "I want to visit Madison.\n",
      "I want to visit Shanghai.\n",
      "I want to visit Shenzhen.\n",
      "I want to visit Taipei.\n",
      "I want to visit Singapore.\n"
     ]
    }
   ],
   "source": [
    "cities = [\"milwaukee\", \"guangzhou\", \"chicago\", \"madison\", \"shanghai\", \"shenzhen\", \"taipei\", \"singapore\"];\n",
    "for city in cities:\n",
    "\tprint(f'I want to visit {city.title()}.');"
   ]
  },
  {
   "cell_type": "markdown",
   "id": "f95dd2ae",
   "metadata": {},
   "source": [
    "4-13. Buffet: A buffet-style restaurant offers only five basic foods. Think of five simple foods, and store them in a tuple.\n",
    "• Use a for loop to print each food the restaurant offers.\n",
    "• Try to modify one of the items, and make sure that Python rejects the change.\n",
    "• The restaurant changes its menu, replacing two of the items with different foods. Add a line that rewrites the tuple, and then use a for loop to print each of the items on the revised menu."
   ]
  },
  {
   "cell_type": "code",
   "execution_count": 13,
   "id": "38af098e",
   "metadata": {},
   "outputs": [
    {
     "name": "stdout",
     "output_type": "stream",
     "text": [
      "beef\n",
      "pork\n",
      "salad\n",
      "chicken\n",
      "salmon\n",
      "('beef', 'port', 'salad', 'shrimp', 'vegetable')\n"
     ]
    }
   ],
   "source": [
    "menu = (\"beef\", \"pork\", \"salad\", \"chicken\", \"salmon\");\n",
    "for food in menu:\n",
    "\tprint(food);\n",
    "\n",
    "'''\n",
    "menu[1] = \"vegetable\";\n",
    "print(menu);\n",
    "\n",
    "'''\n",
    "revised_menu = (\"beef\", \"port\", \"salad\", \"shrimp\", \"vegetable\");\n",
    "print(revised_menu)"
   ]
  }
 ],
 "metadata": {
  "kernelspec": {
   "display_name": "Python 3 (ipykernel)",
   "language": "python",
   "name": "python3"
  },
  "language_info": {
   "codemirror_mode": {
    "name": "ipython",
    "version": 3
   },
   "file_extension": ".py",
   "mimetype": "text/x-python",
   "name": "python",
   "nbconvert_exporter": "python",
   "pygments_lexer": "ipython3",
   "version": "3.8.3"
  }
 },
 "nbformat": 4,
 "nbformat_minor": 5
}
