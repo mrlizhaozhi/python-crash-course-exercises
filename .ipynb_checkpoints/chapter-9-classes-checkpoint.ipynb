{
 "cells": [
  {
   "cell_type": "markdown",
   "id": "06c1e21b",
   "metadata": {},
   "source": [
    "# Chapter 9 Classes"
   ]
  },
  {
   "cell_type": "markdown",
   "id": "f561b54d",
   "metadata": {},
   "source": [
    "This notebook includes exercises from Chapter 9 Classes of Python Crash Course.\n",
    "\n",
    "***REVIEW THIS CHAPTER!***"
   ]
  },
  {
   "cell_type": "markdown",
   "id": "99d1258d",
   "metadata": {},
   "source": [
    "9-1. Restaurant: Make a class called Restaurant. The __init__() method for Restaurant should store two attributes: a restaurant_name and a cuisine_type. Make a method called describe_restaurant() that prints these two pieces of information, and a method called open_restaurant() that prints a message indicating that the restaurant is open. \n",
    "\n",
    "Make an instance called restaurant from your class. Print the two attributes individually, and then call both methods."
   ]
  },
  {
   "cell_type": "code",
   "execution_count": 4,
   "id": "f20ca2a2",
   "metadata": {},
   "outputs": [
    {
     "name": "stdout",
     "output_type": "stream",
     "text": [
      "The resturant is called TastyRice.\n",
      "The resturant sells Chinese food.\n",
      "The restaurant is called TastyRice is a Chinese restaurant.\n"
     ]
    }
   ],
   "source": [
    "class Restaurant:\n",
    "    \"\"\" this class describes restaurants \"\"\"\n",
    "    def __init__(self, name, type):\n",
    "        \"\"\" the __init__ method provides attributes\"\"\"\n",
    "        self.name = name\n",
    "        self.type = type\n",
    "        \n",
    "    def describe_restaurant(self):\n",
    "        \"\"\" this method describes restaurants\"\"\"\n",
    "        print(f\"{self.name} is a {self.type} restaurant.\")\n",
    "        \n",
    "    def open_restaurant(self):\n",
    "        \"\"\" this method indicates the restuarant is open\"\"\"\n",
    "        print(f'{self.name}, the {self.type} restaurant, is open.')\n",
    "        \n",
    "restaurant = Restaurant(\"TastyRice\", \"Chinese\")\n",
    "print(f\"The resturant is called {restaurant.name}.\")\n",
    "print(f\"The resturant sells {restaurant.type} food.\")\n",
    "print(f\"The restaurant is called {restaurant.name} is a {restaurant.type} restaurant.\")"
   ]
  },
  {
   "cell_type": "markdown",
   "id": "1aa2c7a9",
   "metadata": {},
   "source": [
    "9-2. Three Restaurants: Start with your class from Exercise 9-1. Create three different instances from the class, and call describe_restaurant() for each instance."
   ]
  },
  {
   "cell_type": "code",
   "execution_count": 5,
   "id": "09c056a6",
   "metadata": {},
   "outputs": [
    {
     "name": "stdout",
     "output_type": "stream",
     "text": [
      "Good Sam is a Italian restaurant.\n",
      "Panda Express is a Chinese restaurant.\n",
      "Maki-Yaki is a Japanese restaurant.\n"
     ]
    }
   ],
   "source": [
    "restaurant1 = Restaurant(\"Good Sam\", \"Italian\")\n",
    "restaurant2 = Restaurant(\"Panda Express\", \"Chinese\")\n",
    "restaurant3 = Restaurant(\"Maki-Yaki\", \"Japanese\")\n",
    "\n",
    "restaurant1.describe_restaurant()\n",
    "restaurant2.describe_restaurant()\n",
    "restaurant3.describe_restaurant()"
   ]
  },
  {
   "cell_type": "markdown",
   "id": "097097c9",
   "metadata": {},
   "source": [
    "9-3. Users: Make a class called User. Create two attributes called first_name and last_name, and then create several other attributes that are typically stored in a user profile. Make a method called describe_user() that prints a summary of the user’s information. Make another method called greet_user() that prints a personalized greeting to the user. \n",
    "\n",
    "Create several instances representing different users, and call both methods for each user."
   ]
  },
  {
   "cell_type": "code",
   "execution_count": 6,
   "id": "59b23b6f",
   "metadata": {},
   "outputs": [
    {
     "name": "stdout",
     "output_type": "stream",
     "text": [
      "What's up Xuanbin!\n",
      "Xuanbin Huang from Guangzhou is majored in music.\n"
     ]
    }
   ],
   "source": [
    "class User:\n",
    "    \"\"\" this class defines users\"\"\"\n",
    "    def __init__(self, first_name, last_name, field, where):\n",
    "        \"\"\" assigning users a range of attributes\"\"\"\n",
    "        self.first = first_name\n",
    "        self.last = last_name\n",
    "        self.field = field\n",
    "        self.where = where\n",
    "                \n",
    "    def describe_user(self):\n",
    "        \"\"\" describe the user using attributes created\"\"\"\n",
    "        print(f\"{self.first} {self.last} from {self.where} is majored in {self.field}.\")\n",
    "            \n",
    "    def greet_user(self):\n",
    "        \"\"\" greet the user\"\"\"\n",
    "        print(f\"Hello, {self.first}, how are you?\")\n",
    "        \n",
    "user1 = User(\"Xuanbin\", \"Huang\", \"music\", \"Guangzhou\")\n",
    "print(f\"What's up {user1.first}!\")\n",
    "\n",
    "user1.describe_user()"
   ]
  },
  {
   "cell_type": "markdown",
   "id": "0a0da3b3",
   "metadata": {},
   "source": [
    "9-4. Number Served: Start with your program from Exercise 9-1 (page 162). Add an attribute called number_served with a default value of 0. Create an instance called restaurant from this class. Print the number of customers the restaurant has served, and then change this value and print it again.\n",
    "\n",
    "Add a method called set_number_served() that lets you set the number of customers that have been served. Call this method with a new number and print the value again.\n",
    "\n",
    "Add a method called increment_number_served() that lets you increment the number of customers who’ve been served. Call this method with any number you like that could represent how many customers were served in, say, a day of business."
   ]
  },
  {
   "cell_type": "code",
   "execution_count": 7,
   "id": "77bd574e",
   "metadata": {},
   "outputs": [
    {
     "name": "stdout",
     "output_type": "stream",
     "text": [
      "Tangled Noodles and More, the Chinese restaurant, has served 10 today.\n"
     ]
    }
   ],
   "source": [
    "class Restaurant:\n",
    "    \"\"\" this class describes restaurants \"\"\"\n",
    "    def __init__(self, name, type):\n",
    "        \"\"\" the __init__ method provides attributes\"\"\"\n",
    "        self.name = name\n",
    "        self.type = type\n",
    "        self.number = 10\n",
    "        \n",
    "    def describe_restaurant(self):\n",
    "        \"\"\" this method describes restaurants\"\"\"\n",
    "        print(f\"{self.name} is a {self.type} restaurant.\")\n",
    "        \n",
    "    def open_restaurant(self):\n",
    "        \"\"\" this method indicates the restuarant is open\"\"\"\n",
    "        print(f'{self.name}, the {self.type} restaurant, is open.')\n",
    "        \n",
    "    def read_number(self):\n",
    "        print(f\"{self.name}, the {self.type} restaurant, has served {self.number} today.\")\n",
    "        \n",
    "restaurant = Restaurant(\"Tangled Noodles and More\", \"Chinese\")\n",
    "restaurant.read_number()"
   ]
  },
  {
   "cell_type": "code",
   "execution_count": 8,
   "id": "2c36b517",
   "metadata": {},
   "outputs": [
    {
     "name": "stdout",
     "output_type": "stream",
     "text": [
      "Tangled Noodles and More, the Chinese restaurant, has served 22 today.\n"
     ]
    }
   ],
   "source": [
    "class Restaurant:\n",
    "    \"\"\" this class describes restaurants \"\"\"\n",
    "    def __init__(self, name, type):\n",
    "        \"\"\" the __init__ method provides attributes\"\"\"\n",
    "        self.name = name\n",
    "        self.type = type\n",
    "        self.number = 0\n",
    "        \n",
    "    def describe_restaurant(self):\n",
    "        \"\"\" this method describes restaurants\"\"\"\n",
    "        print(f\"{self.name} is a {self.type} restaurant.\")\n",
    "        \n",
    "    def open_restaurant(self):\n",
    "        \"\"\" this method indicates the restuarant is open\"\"\"\n",
    "        print(f'{self.name}, the {self.type} restaurant, is open.')\n",
    "        \n",
    "    def read_number(self):\n",
    "        print(f\"{self.name}, the {self.type} restaurant, has served {self.number} today.\")\n",
    "        \n",
    "    def set_number_served(self, number):\n",
    "        self.number = number\n",
    "        \n",
    "restaurant = Restaurant(\"Tangled Noodles and More\", \"Chinese\")\n",
    "restaurant.set_number_served(22)\n",
    "restaurant.read_number()"
   ]
  },
  {
   "cell_type": "code",
   "execution_count": 9,
   "id": "35453cb2",
   "metadata": {},
   "outputs": [
    {
     "name": "stdout",
     "output_type": "stream",
     "text": [
      "Maki-Yaki, the Japanese restuarant, has served 12 customers.\n",
      "As of now, that number has increased to 22 customers.\n"
     ]
    }
   ],
   "source": [
    "class Restaurant:\n",
    "    \"\"\" this class describes restaurants \"\"\"\n",
    "    def __init__(self, name, type):\n",
    "        \"\"\" the __init__ method provides attributes\"\"\"\n",
    "        self.name = name\n",
    "        self.type = type\n",
    "        self.number = 0\n",
    "        \n",
    "    def describe_restaurant(self):\n",
    "        \"\"\" this method describes restaurants\"\"\"\n",
    "        print(f\"{self.name} is a {self.type} restaurant.\")\n",
    "        \n",
    "    def open_restaurant(self):\n",
    "        \"\"\" this method indicates the restuarant is open\"\"\"\n",
    "        print(f'{self.name}, the {self.type} restaurant, is open.')\n",
    "        \n",
    "    def set_number_served(self, number):\n",
    "        self.number = number\n",
    "        print(f\"{self.name}, the {self.type} restuarant, has served {self.number} customers.\")\n",
    "        \n",
    "    def increment_number(self, number):\n",
    "        self.number += number\n",
    "        print(f\"As of now, that number has increased to {self.number} customers.\")\n",
    "        \n",
    "restaurant = Restaurant(\"Maki-Yaki\", \"Japanese\")\n",
    "restaurant.set_number_served(12)\n",
    "restaurant.increment_number(10)     \n"
   ]
  },
  {
   "cell_type": "markdown",
   "id": "9de53489",
   "metadata": {},
   "source": [
    "9-5. Login Attempts: Add an attribute called login_attempts to your User class from Exercise 9-3 (page 162). Write a method called increment_login _attempts() that increments the value of login_attempts by 1. Write another method called reset_login_attempts() that resets the value of login_attempts to 0.\n",
    "\n",
    "Make an instance of the User class and call increment_login_attempts() several times. Print the value of login_attempts to make sure it was incremented properly, and then call reset_login_attempts(). Print login_attempts again to make sure it was reset to 0"
   ]
  },
  {
   "cell_type": "code",
   "execution_count": 10,
   "id": "fedda00d",
   "metadata": {},
   "outputs": [
    {
     "name": "stdout",
     "output_type": "stream",
     "text": [
      "You've tried 1 attempt in total.\n",
      "You've tried 2 attempt in total.\n",
      "You've tried 3 attempt in total.\n",
      "Login attempts have been reset to 0.\n",
      "You've tried 1 attempt in total.\n",
      "You've tried 2 attempt in total.\n",
      "Login attempts have been reset to 0.\n"
     ]
    }
   ],
   "source": [
    "class User:\n",
    "    \"\"\" this class defines users\"\"\"\n",
    "    def __init__(self, first_name, last_name, field, where):\n",
    "        \"\"\" assigning users a range of attributes\"\"\"\n",
    "        self.first = first_name\n",
    "        self.last = last_name\n",
    "        self.field = field\n",
    "        self.where = where\n",
    "        self.login_attempts = 0\n",
    "                \n",
    "    def describe_user(self):\n",
    "        \"\"\" describe the user using attributes created\"\"\"\n",
    "        print(f\"{self.first} {self.last} from {self.where} is majored in {self.field}.\")\n",
    "            \n",
    "    def greet_user(self):\n",
    "        \"\"\" greet the user\"\"\"\n",
    "        print(f\"Hello, {self.first}, how are you?\")\n",
    "        \n",
    "    def increment_login_attempts(self):\n",
    "        self.login_attempts = self.login_attempts + 1\n",
    "        print(f\"You've tried {self.login_attempts} attempt in total.\")\n",
    "        \n",
    "    def reset_login_attempt(self):\n",
    "        self.login_attempts = 0\n",
    "        print(\"Login attempts have been reset to 0.\")\n",
    "        \n",
    "user = User(\"Jason\", \"Rivera\", \"Business Analytics\", \"Chicago\")\n",
    "user.increment_login_attempts()\n",
    "user.increment_login_attempts()\n",
    "user.increment_login_attempts()\n",
    "user.reset_login_attempt()\n",
    "user.increment_login_attempts()\n",
    "user.increment_login_attempts()\n",
    "user.reset_login_attempt()"
   ]
  },
  {
   "cell_type": "markdown",
   "id": "463b470f",
   "metadata": {},
   "source": [
    "9-6. Ice Cream Stand: An ice cream stand is a specific kind of restaurant. Write a class called IceCreamStand that inherits from the Restaurant class you wrote in Exercise 9-1 (page 162) or Exercise 9-4 (page 167). Either version of the class will work; just pick the one you like better. Add an attribute called flavors that stores a list of ice cream flavors. Write a method that displays these flavors. Create an instance of IceCreamStand, and call this method."
   ]
  },
  {
   "cell_type": "code",
   "execution_count": 11,
   "id": "ca271f95",
   "metadata": {},
   "outputs": [
    {
     "name": "stdout",
     "output_type": "stream",
     "text": [
      "Ice Queen is a ice cream restaurant.\n",
      "Ice Queen is a ice cream restaurant that offers chocolate ice cream.\n",
      "Ice Queen is a ice cream restaurant that offers orange ice cream.\n",
      "Ice Queen is a ice cream restaurant that offers tea ice cream.\n"
     ]
    }
   ],
   "source": [
    "    \n",
    "class iceCreamStand(Restaurant):\n",
    "    def __init__(self, name, type):\n",
    "        super().__init__(name, type)\n",
    "        self.flavours = [\"chocolate\", \"orange\", \"tea\"]\n",
    "        \n",
    "    def describe_flavours(self):\n",
    "        for flavour in self.flavours:\n",
    "            print(f\"{self.name} is a {self.type} restaurant that offers {flavour} ice cream.\")\n",
    "        \n",
    "instance = iceCreamStand('Ice Queen', 'ice cream')\n",
    "instance.describe_restaurant()\n",
    "instance.describe_flavours()"
   ]
  },
  {
   "cell_type": "markdown",
   "id": "fc4a9013",
   "metadata": {},
   "source": [
    "9-7. Admin: An administrator is a special kind of user. Write a class called Admin that inherits from the User class you wrote in Exercise 9-3 (page 162) or Exercise 9-5 (page 167). Add an attribute, privileges, that stores a list of strings like \"can add post\", \"can delete post\", \"can ban user\", and so on. Write a method called show_privileges() that lists the administrator’s set of privileges. Create an instance of Admin, and call your method."
   ]
  },
  {
   "cell_type": "code",
   "execution_count": 12,
   "id": "a0d1d6e9",
   "metadata": {},
   "outputs": [
    {
     "name": "stdout",
     "output_type": "stream",
     "text": [
      "An administrator account has the following privileges: \n",
      "Add post\n",
      "Delete post\n",
      "Ban user\n"
     ]
    }
   ],
   "source": [
    "class Admin(User):\n",
    "    def __init__(self, first_name, last_name, field, where):\n",
    "        super().__init__(first_name, last_name, field, where)\n",
    "        self.privileges = [\"add post\", \"delete post\", \"ban user\"]\n",
    "    def show_privileges(self):\n",
    "        print(\"An administrator account has the following privileges: \")\n",
    "        for privilege in self.privileges:\n",
    "            print(privilege.capitalize())\n",
    "            \n",
    "instance = Admin(\"Zhaozhi\", \"Li\", \"Finance\", \"Guangzhou\")\n",
    "instance.show_privileges()"
   ]
  },
  {
   "cell_type": "markdown",
   "id": "bac63f7c",
   "metadata": {},
   "source": [
    "9-8. Privileges: Write a separate Privileges class. The class should have one attribute, privileges, that stores a list of strings as described in Exercise 9-7. Move the show_privileges() method to this class. Make a Privileges instance as an attribute in the Admin class. Create a new instance of Admin and use your method to show its privileges."
   ]
  },
  {
   "cell_type": "code",
   "execution_count": 23,
   "id": "00204c0c",
   "metadata": {},
   "outputs": [
    {
     "name": "stdout",
     "output_type": "stream",
     "text": [
      "An administrator account has the following privileges: \n",
      "Add post\n",
      "Delete post\n"
     ]
    }
   ],
   "source": [
    "# need to review!\n",
    "class Privileges:\n",
    "    def __init__(self, privileges=[]):\n",
    "        self.privileges = privileges\n",
    "        \n",
    "    def show_privileges(self):\n",
    "        print(\"An administrator account has the following privileges: \")\n",
    "        for privilege in self.privileges:\n",
    "            print(privilege.capitalize())\n",
    "            \n",
    "class Admin(User):\n",
    "    def __init__(self, first_name, last_name, field, where):\n",
    "        super().__init__(first_name, last_name, field, where)\n",
    "        self.privileges = Privileges()\n",
    "\n",
    "new = Admin(\"Xuanbin\", \"Huang\", \"Music\", \"Guangzhou\")\n",
    "new.privileges.__init__(['Add post','Delete post'])\n",
    "new.privileges.show_privileges()"
   ]
  },
  {
   "cell_type": "markdown",
   "id": "fe9387fc",
   "metadata": {},
   "source": [
    "9-9. Battery Upgrade: Use the final version of electric_car.py from this section. Add a method to the Battery class called upgrade_battery(). This method should check the battery size and set the capacity to 100 if it isn’t already. Make an electric car with a default battery size, call get_range() once, and then call get_range() a second time after upgrading the battery. You should see an increase in the car’s range."
   ]
  },
  {
   "cell_type": "code",
   "execution_count": 32,
   "id": "f14e32c0",
   "metadata": {},
   "outputs": [
    {
     "name": "stdout",
     "output_type": "stream",
     "text": [
      "Make an electric car, and check the range:\n",
      "This car can go about 260 miles on a full charge.\n",
      "\n",
      "Upgrade the battery, and check the range again:\n",
      "Upgraded the battery to 100 kWh.\n",
      "This car can go about 315 miles on a full charge.\n"
     ]
    }
   ],
   "source": [
    "class Car:\n",
    "    \"\"\"A simple attempt to represent a car.\"\"\"\n",
    "    \n",
    "    def __init__(self, make, model, year):\n",
    "        self.make = make\n",
    "        self.model = model\n",
    "        self.year = year\n",
    "        self.odometer_reading = 0\n",
    "\n",
    "    def get_descriptive_name(self):\n",
    "        long_name = f\"{self.year} {self.manufacturer} {self.model}\"\n",
    "        return long_name.title()\n",
    "\n",
    "    def read_odometer(self):\n",
    "        print(f\"This car has {self.odometer_reading} miles on it.\")\n",
    "\n",
    "    def update_odometer(self, mileage):\n",
    "        if mileage >= self.odometer_reading:\n",
    "            self.odometer_reading = mileage\n",
    "        else:\n",
    "            print(\"You can't roll back an odometer!\")\n",
    "            \n",
    "    def increment_odometer(self, miles):\n",
    "        self.odometer_reading += miles \n",
    "\n",
    "class Battery():\n",
    "        \"\"\"A simple attempt to model a battery for an electric car.\"\"\"\n",
    "\n",
    "        def __init__(self, battery_size=75):\n",
    "            \"\"\"Initialize the battery's attributes.\"\"\"\n",
    "            self.battery_size = battery_size\n",
    "        def describe_battery(self):\n",
    "            \"\"\"Print a statement describing the battery size.\"\"\"\n",
    "            print(f\"This car has a {self.battery_size}-kWh battery.\")\n",
    "\n",
    "        def get_range(self):\n",
    "            \"\"\"Print a statement about the range this battery provides.\"\"\"\n",
    "            if self.battery_size == 75:\n",
    "                range = 260\n",
    "            elif self.battery_size == 100:\n",
    "                range = 315\n",
    "\n",
    "            print(f\"This car can go about {range} miles on a full charge.\")\n",
    "\n",
    "        def get_range(self):\n",
    "            \"\"\"Print a statement about the range this battery provides.\"\"\"\n",
    "            if self.battery_size == 75:\n",
    "                range = 260\n",
    "            elif self.battery_size == 100:\n",
    "                range = 315\n",
    "            print(f\"This car can go about {range} miles on a full charge.\")\n",
    "            \n",
    "        def upgrade_battery(self):\n",
    "            if self.battery_size != 100:\n",
    "                self.battery_size = 100\n",
    "                print(\"Upgraded the battery to 100 kWh.\")\n",
    "            else:\n",
    "                print(\"The battery is already upgraded.\")\n",
    "            \n",
    "\n",
    "class ElectricCar(Car):\n",
    "        \"\"\"Represent aspects of a car, specific to electric vehicles.\"\"\"\n",
    "        def __init__(self, make, model, year):\n",
    "            \"\"\"\n",
    "            Initialize attributes of the parent class.\n",
    "            Then initialize attributes specific to an electric car.\n",
    "            \"\"\"\n",
    "            super().__init__(make, model, year)\n",
    "            self.battery = Battery()\n",
    "    \n",
    "print(\"Make an electric car, and check the range:\")\n",
    "my_tesla = ElectricCar('tesla', 'roadster', 2019)\n",
    "my_tesla.battery.get_range()\n",
    "\n",
    "print(\"\\nUpgrade the battery, and check the range again:\")\n",
    "my_tesla.battery.upgrade_battery()\n",
    "my_tesla.battery.get_range()"
   ]
  },
  {
   "cell_type": "markdown",
   "id": "0dd0964e",
   "metadata": {},
   "source": [
    "9-10. Imported Restaurant: Using your latest Restaurant class, store it in a module. Make a separate file that imports Restaurant. Make a Restaurant instance, and call one of Restaurant’s methods to show that the import statement is working properly."
   ]
  },
  {
   "cell_type": "code",
   "execution_count": 33,
   "id": "a21258e4",
   "metadata": {},
   "outputs": [
    {
     "name": "stdout",
     "output_type": "stream",
     "text": [
      "Maki-Yaki, the Japanese restuarant, has served 12 customers.\n",
      "As of now, that number has increased to 22 customers.\n"
     ]
    }
   ],
   "source": [
    "import restaurant\n",
    "\n",
    "        \n",
    "restaurant = Restaurant(\"Maki-Yaki\", \"Japanese\")\n",
    "restaurant.set_number_served(12)\n",
    "restaurant.increment_number(10)     "
   ]
  },
  {
   "cell_type": "markdown",
   "id": "445eca14",
   "metadata": {},
   "source": [
    "9-11. Imported Admin: Start with your work from Exercise 9-8 (page 173). Store the classes User, Privileges, and Admin in one module. Create a separate file, make an Admin instance, and call show_privileges() to show that everything is working correctly."
   ]
  },
  {
   "cell_type": "code",
   "execution_count": 35,
   "id": "104300b0",
   "metadata": {},
   "outputs": [
    {
     "name": "stdout",
     "output_type": "stream",
     "text": [
      "An administrator account has the following privileges: \n",
      "Add post\n",
      "Delete post\n"
     ]
    }
   ],
   "source": [
    "from admin import User, Privileges, Admin\n",
    "\n",
    "new = Admin(\"Xuanbin\", \"Huang\", \"Music\", \"Guangzhou\")\n",
    "new.privileges.__init__(['Add post','Delete post'])\n",
    "new.privileges.show_privileges()"
   ]
  },
  {
   "cell_type": "markdown",
   "id": "a32cbd32",
   "metadata": {},
   "source": [
    "9-12. Multiple Modules: Store the User class in one module, and store the Privileges and Admin classes in a separate module. In a separate file, create an Admin instance and call show_privileges() to show that everything is still working correctly."
   ]
  },
  {
   "cell_type": "code",
   "execution_count": 41,
   "id": "d16363a7",
   "metadata": {
    "scrolled": true
   },
   "outputs": [
    {
     "name": "stdout",
     "output_type": "stream",
     "text": [
      "An administrator account has the following privileges: \n",
      "Add post\n",
      "Delete post\n"
     ]
    }
   ],
   "source": [
    "from admin_privileges import *\n",
    "\n",
    "new = Admin(\"Xuanbin\", \"Huang\", \"Music\", \"Guangzhou\")\n",
    "new.privileges.__init__(['Add post','Delete post'])\n",
    "new.privileges.show_privileges()"
   ]
  },
  {
   "cell_type": "markdown",
   "id": "2c5f601a",
   "metadata": {},
   "source": [
    "9-13. Dice: Make a class Die with one attribute called sides, which has a default value of 6. Write a method called roll_die() that prints a random number between 1 and the number of sides the die has. Make a 6-sided die and roll it 10 times.\n",
    "    \n",
    "   Make a 10-sided die and a 20-sided die. Roll each die 10 times"
   ]
  },
  {
   "cell_type": "code",
   "execution_count": 74,
   "id": "90b94f96",
   "metadata": {},
   "outputs": [
    {
     "name": "stdout",
     "output_type": "stream",
     "text": [
      "Rolling a 6-sided die 10 times:\n",
      "[6, 3, 2, 3, 6, 5, 6, 3, 4, 4]\n",
      "Rolling a 10-sided die 10 times:\n",
      "[2, 6, 6, 4, 3, 1, 7, 10, 5, 6]\n",
      "Rolling a 20-sided die 10 times:\n",
      "[15, 11, 19, 13, 13, 10, 17, 19, 5, 6]\n"
     ]
    }
   ],
   "source": [
    "from random import randint\n",
    "class Die():\n",
    "    def __init__(self, default, rollnum):\n",
    "        self.default = default\n",
    "        self.rollnum = rollnum\n",
    "    def roll_die(self):\n",
    "        output = []\n",
    "        for num in range(self.rollnum):\n",
    "            data = randint(1, self.default)\n",
    "            output.append(data)\n",
    "        return output\n",
    "\n",
    "print('Rolling a 6-sided die 10 times:')\n",
    "print(Die(6, 10).roll_die())\n",
    "\n",
    "print('Rolling a 10-sided die 10 times:')\n",
    "print(Die(10, 10).roll_die())\n",
    "\n",
    "print('Rolling a 20-sided die 10 times:')\n",
    "print(Die(20, 10).roll_die())"
   ]
  },
  {
   "cell_type": "markdown",
   "id": "94058d47",
   "metadata": {},
   "source": [
    "9-14. Lottery: Make a list or tuple containing a series of 10 numbers and five letters. Randomly select four numbers or letters from the list and print a message saying that any ticket matching these four numbers or letters wins a prize."
   ]
  },
  {
   "cell_type": "code",
   "execution_count": 103,
   "id": "47464c80",
   "metadata": {},
   "outputs": [
    {
     "name": "stdout",
     "output_type": "stream",
     "text": [
      "We selected 10.\n",
      "We selected b.\n",
      "We selected 1.\n",
      "We selected c.\n",
      "Tickets that match the following numbers and letters wins the price!\n",
      "[10, 'b', 1, 'c']\n"
     ]
    }
   ],
   "source": [
    "from random import choice\n",
    "lottery = [1, 2, 3, 4, 5, 6, 7, 8, 9, 10, 'a', 'b', 'c', 'd']\n",
    "winner = []\n",
    "\n",
    "for num in range(4):\n",
    "    selected = choice(lottery)\n",
    "    print(f'We selected {selected}.')\n",
    "    winner.append(selected)\n",
    "    \n",
    "print('Tickets that match the following numbers and letters win the prize!')\n",
    "print(winner)"
   ]
  },
  {
   "cell_type": "markdown",
   "id": "10961b35",
   "metadata": {},
   "source": [
    "9-15. Lottery Analysis: You can use a loop to see how hard it might be to win the kind of lottery you just modeled. Make a list or tuple called my_ticket. Write a loop that keeps pulling numbers until your ticket wins. Print a message reporting how many times the loop had to run to give you a winning ticket."
   ]
  },
  {
   "cell_type": "code",
   "execution_count": 185,
   "id": "5dbe040b",
   "metadata": {},
   "outputs": [
    {
     "name": "stdout",
     "output_type": "stream",
     "text": [
      "Tickets that match the following number-letter combination are winners:\n",
      "[4, 10, 5, 'b']\n",
      "Your ticket is [4, 10, 5, 'b']. You won on the 57967th attempt!\n"
     ]
    }
   ],
   "source": [
    "# Answer key: https://ehmatthes.github.io/pcc_2e/solutions/chapter_9/#9-9-battery-upgrade\n",
    "\n",
    "from random import choice\n",
    "\n",
    "lottery = [1, 2, 3, 4, 5, 6, 7, 8, 9, 10, 'a', 'b', 'c', 'd']\n",
    "winner_ticket = []\n",
    "my_ticket = []\n",
    "count = 0\n",
    "\n",
    "def get_winner():\n",
    "    print('Tickets that match the following number-letter combination are winners:')\n",
    "    while len(winner_ticket) < 4:\n",
    "        selected = choice(lottery)\n",
    "        if selected not in winner_ticket:\n",
    "            winner_ticket.append(selected)\n",
    "    print(winner_ticket)\n",
    "    return winner_ticket\n",
    "\n",
    "def get_ticket():\n",
    "    global count\n",
    "    while len(my_ticket) < 4:\n",
    "        picked = choice(lottery)\n",
    "        my_ticket.append(picked)\n",
    "    count += 1\n",
    "    return count\n",
    "    return my_ticket\n",
    "\n",
    "def check_ticket():\n",
    "    global my_ticket\n",
    "    if my_ticket != winner_ticket:\n",
    "        my_ticket = []\n",
    "    else:\n",
    "        print(f'Your ticket is {my_ticket}. You won on the {count}th attempt!')\n",
    "        \n",
    "get_winner()\n",
    "while my_ticket != winner_ticket:\n",
    "    get_ticket()\n",
    "    check_ticket()"
   ]
  },
  {
   "cell_type": "markdown",
   "id": "a2f7f018",
   "metadata": {},
   "source": [
    "9-16. Python Module of the Week: One excellent resource for exploring the Python standard library is a site called Python Module of the Week. Go to https://pymotw.com/ and look at the table of contents. Find a module that looks interesting to you and read about it, perhaps starting with the random module"
   ]
  },
  {
   "cell_type": "code",
   "execution_count": 93,
   "id": "0aeadae0",
   "metadata": {},
   "outputs": [],
   "source": [
    "# https://pymotw.com/3/random/index.html random module"
   ]
  }
 ],
 "metadata": {
  "kernelspec": {
   "display_name": "Python 3 (ipykernel)",
   "language": "python",
   "name": "python3"
  },
  "language_info": {
   "codemirror_mode": {
    "name": "ipython",
    "version": 3
   },
   "file_extension": ".py",
   "mimetype": "text/x-python",
   "name": "python",
   "nbconvert_exporter": "python",
   "pygments_lexer": "ipython3",
   "version": "3.8.3"
  }
 },
 "nbformat": 4,
 "nbformat_minor": 5
}
